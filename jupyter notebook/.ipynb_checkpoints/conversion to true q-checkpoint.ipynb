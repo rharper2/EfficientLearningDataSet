{
 "cells": [
  {
   "cell_type": "code",
   "execution_count": 1,
   "metadata": {},
   "outputs": [
    {
     "data": {
      "application/javascript": [
       "if (typeof trueq === \"undefined\") { var s = document.createElement(\"style\"); s.type = \"text/css\"; s.innerHTML = \"div.input,div.output_wrapper { z-index: auto;}.tq-operation ul,.tq-operation ul:not(.list-inline),.tq-cycle ul,.tq-cycle ul:not(.list-inline),.tq-circuit ul,.tq-circuit ul:not(.list-inline) { list-style-type: none; margin: 0px; padding: 0px;}.tq-operation { background-color: #fff; border: 1px solid #333; border-radius: 2px; color: #000; display: inline-block; font-size: 1.0em; font-weight: normal; line-height: normal; margin: 0px; overflow-wrap: normal; padding: 8px; text-align: left; user-select: none;}.tq-operation > ul { display: grid; grid-gap: 0px 8px; grid-template: auto auto;}.tq-operation > ul > li { break-inside: avoid; grid-column: 1 / 2; margin-bottom: 8px;}.tq-operation > ul > li:last-child { align-self: center; grid-column: 2 / 3; grid-row: 1 / 5;}.tq-operation > ul > li > h1 { color: #134f6d; font-size: 1.1em; font-weight: bold; margin: 0px; padding: 0px 0px 2px 0px;}.tq-operation > ul > li > h1:first-child { margin: 0px; padding: 0px 0px 2px 0px;}.tq-operation > ul > li > canvas { border: 1px solid #000; margin-left: 8px;}.tq-operation > ul > li > ul,.tq-operation > ul > li > ul:not(.list-inline) { margin-left: 8px;}.tq-cycle { display: flex; font-size: 10pt; font-weight: normal; line-height: normal; margin: 0px; padding: 0px; text-align: left; user-select: none;}.tq-cycle > .state,.tq-cycle > .opers > ul > li > div { padding: 3px 4px 3px 3px;}.tq-cycle > .state { display: block; font-weight: bold; width: 50px; margin: auto 0px auto 0px;}.tq-cycle > .opers { display: block;}.tq-cycle > .opers > ul { display: grid; grid-template-columns: repeat(6, 150px);}.tq-cycle > .opers > ul > li > div { overflow-wrap: anywhere;}.tq-cycle > .opers > ul > li > div:hover { background-color: #d5e5f2;}.tq-cycle > .opers > ul > li > div + div { display: none; position: absolute; transform: translate(148px, calc(-50% - 6px)); z-index: 100;}.tq-cycle > .opers > ul > li > div:hover + div { display: block;}.tq-circuit > ul > li:nth-child(2n) { background-color: #fcfcfc;}.tq-circuit > ul > li:nth-child(2n + 1) { background-color: #f2f2f2;}\"; document.head.appendChild(s); }"
      ],
      "text/plain": [
       "<IPython.core.display.Javascript object>"
      ]
     },
     "metadata": {},
     "output_type": "display_data"
    },
    {
     "data": {
      "application/javascript": [
       "if (typeof trueq === \"undefined\") { var s = document.createElement(\"script\"); s.type = \"text/javascript\"; s.text = \"function float_to_hex(c) { var hex = Math.round(c * 255).toString(16); return hex.length == 1 ? '0' + hex : hex;}function hue_to_frac(p, q, t) { if (t < 0) t += 1; if (t > 1) t -= 1; if (t < 1 / 6) return p + (q - p) * 6 * t; if (t < 1 / 2) return q; if (t < 2 / 3) return p + (q - p) * (2 / 3 - t) * 6; return p;}function hls_to_hex(h, l, s) { var r, g, b; if (s == 0) { r = g = b = l; } else { var q = l < 0.5 ? l * (1 + s) : l + s - l * s; var p = 2 * l - q; r = hue_to_frac(p, q, h + 1 / 3); g = hue_to_frac(p, q, h); b = hue_to_frac(p, q, h - 1 / 3); } var brightness = 0.2126 * r + 0.7152 * g + 0.0722 * b; return [ '#' + float_to_hex(r) + float_to_hex(g) + float_to_hex(b), brightness ];}function get_color(val, colormap) { var n = colormap.length - 1; var idx = Math.min(Math.floor(val * n), n - 1); var c0 = colormap[idx]; var c1 = colormap[idx + 1]; var p = val * n - idx; var lum; if (Math.abs(c1[0] - c0[0]) > 0.9) { var s = c0[0] < c1[0] ? 1 : 0; lum = p * (c1[0] - s) + (1 - p) * (c0[0] - (1 - s)); lum = lum < 0 ? lum + 1 : lum; } else { lum = p * c1[0] + (1 - p) * c0[0]; } return hls_to_hex( lum, p * c1[1] + (1 - p) * c0[1], p * c1[2] + (1 - p) * c0[2] );}function get_data(mat_data) { var bytes = Uint8Array.from(atob(mat_data), c => c.charCodeAt(0)); var view = new DataView(bytes.buffer); var n = (bytes.length / 16) >> 0; var re = new Float64Array(n); var im = new Float64Array(n); var max = 0; for (var i = 0; i < n; ++i) { re[i] = view.getFloat64(16 * i, true); im[i] = view.getFloat64(16 * i + 8, true); max = Math.max(max, Math.pow(re[i], 2) + Math.pow(im[i], 2)); } return [re, im, max];}function plot_matrix(canvas_id, mat_data) { var twilight_shifted = [ [0.798827, 0.146645, 0.474228], [0.795248, 0.15808, 0.578604], [0.788601, 0.181338, 0.630879], [0.781241, 0.214273, 0.653041], [0.772426, 0.254949, 0.648235], [0.761564, 0.301187, 0.615563], [0.748672, 0.349444, 0.561795], [0.73417, 0.396015, 0.501022], [0.718242, 0.439099, 0.442231], [0.700774, 0.478402, 0.388198], [0.681526, 0.514186, 0.358843], [0.660489, 0.540637, 0.363669], [0.641295, 0.550506, 0.382859], [0.624839, 0.560662, 0.394727], [0.610663, 0.572316, 0.399006], [0.598338, 0.586458, 0.395711], [0.587442, 0.60377, 0.385082], [0.577581, 0.624647, 0.367416], [0.568449, 0.649323, 0.342858], [0.55997, 0.678033, 0.311277], [0.552674, 0.711046, 0.272511], [0.548645, 0.748267, 0.227309], [0.553431, 0.7881, 0.1779], [0.581274, 0.826558, 0.126073], [0.68329, 0.857247, 0.082611], [0.79693, 0.868106, 0.123095], [0.883967, 0.86567, 0.134156], [0.974356, 0.852159, 0.143346], [0.037851, 0.821916, 0.210678], [0.060527, 0.781005, 0.277049], [0.067597, 0.738829, 0.328129], [0.067984, 0.698567, 0.36977], [0.064884, 0.661748, 0.402944], [0.059628, 0.628915, 0.426652], [0.052784, 0.600021, 0.439741], [0.044541, 0.574663, 0.441791], [0.034859, 0.55225, 0.433313], [0.023526, 0.532122, 0.41547], [0.010156, 0.513626, 0.389693], [0.994334, 0.489808, 0.380579], [0.9779, 0.453613, 0.423402], [0.961468, 0.416769, 0.467016], [0.945071, 0.379554, 0.51003], [0.928913, 0.342453, 0.549247], [0.913373, 0.306157, 0.579801], [0.898741, 0.27125, 0.59792], [0.884831, 0.237921, 0.603907], [0.870983, 0.20638, 0.600408], [0.856244, 0.177667, 0.587341], [0.8394, 0.15399, 0.558511], [0.819975, 0.144243, 0.525215] ]; var canvas = document.getElementById(canvas_id); var ctx = canvas.getContext('2d'); ctx.textAlign = 'center'; ctx.textBaseline = 'middle'; var [re, im, max_abs2] = get_data(mat_data); var width = Math.round(Math.sqrt(re.length)); var size = 40; for (var i = 0; i < width; ++i) { for (var j = 0; j < width; ++j) { var x = re[width * i + j]; var y = im[width * i + j]; var abs2 = Math.pow(x, 2) + Math.pow(y, 2); if (abs2 > 1e-12) { var ang = 0.5 + Math.atan2(y, x) / 6.2831853072; var alpha = Math.sqrt(abs2 / max_abs2); var [rgb, brightness] = get_color(ang, twilight_shifted); brightness = 1 + (brightness - 1) * alpha; ctx.fillStyle = rgb + float_to_hex(alpha); ctx.fillRect(size * i, size * j, size, size); ctx.fillStyle = brightness > 0.5 ? '#000' : '#fff'; var [has_x, has_y] = [x * x > 1e-6, y * y > 1e-6]; var offset = has_x && has_y ? 0.3 : 0.5; if (has_x) { ctx.fillText(x.toFixed(2), size * (i + 0.5), size * (j + offset)); } if (has_y) { ctx.fillText( y.toFixed(2) + 'j', size * (i + 0.5), size * (j + 1 - offset) ); } } } }}\"; document.body.appendChild(s); }"
      ],
      "text/plain": [
       "<IPython.core.display.Javascript object>"
      ]
     },
     "metadata": {},
     "output_type": "display_data"
    },
    {
     "data": {
      "application/javascript": [
       "var trueq = 1"
      ],
      "text/plain": [
       "<IPython.core.display.Javascript object>"
      ]
     },
     "metadata": {},
     "output_type": "display_data"
    }
   ],
   "source": [
    "import glob\n",
    "import pickle\n",
    "import trueq as tq\n",
    "import qiskit as qk"
   ]
  },
  {
   "cell_type": "code",
   "execution_count": 52,
   "metadata": {},
   "outputs": [],
   "source": [
    "# This just makes it easier to pickle the bit pattern used to randomise the 'expected' measurements\n",
    "class savedPair:\n",
    "    def __init__(self, bits, result):\n",
    "        self.bits = bits\n",
    "        self.result = result\n",
    "\n",
    "def _to_pauli(mat):\n",
    "    g = tq.Gate(mat)\n",
    "    if g == tq.Gate.x:\n",
    "        return 'X'\n",
    "    if g == tq.Gate.id:\n",
    "        return 'I'\n",
    "    if g == (tq.Gate.x & tq.Gate.x):\n",
    "        return 'XX'\n",
    "    if g == (tq.Gate.x & tq.Gate.id):\n",
    "        return 'XI'\n",
    "    if g == (tq.Gate.id & tq.Gate.x):\n",
    "        return 'IX'\n",
    "    if g == (tq.Gate.id & tq.Gate.id):\n",
    "        return 'II'\n",
    "    raise ValueError(\"Unexpected gate encountered\")\n",
    "\n",
    "def to_pauli(circ):\n",
    "    temp = tq.Simulator().operator(circ).value()\n",
    "    pauli_dic = {}\n",
    "    for k, v in temp.items():\n",
    "        if len(k) == 1:\n",
    "            pauli_dic[k[0]] = _to_pauli(v)\n",
    "        else:\n",
    "            pauli_dic[k[0]], pauli_dic[k[1]] = _to_pauli(v)\n",
    "            \n",
    "    return ''.join(pauli_dic[j] for j in range(14))"
   ]
  },
  {
   "cell_type": "markdown",
   "metadata": {},
   "source": [
    "# Single-qubit conversion"
   ]
  },
  {
   "cell_type": "code",
   "execution_count": null,
   "metadata": {},
   "outputs": [],
   "source": [
    "sqlist = glob.glob('../data/singlePickles/fourteenQubitMachineSingle_q1_Batch[0-9]*.pickle')\n",
    "sq_lengths = [1, 5, 10, 15, 20, 30, 45, 60, 75, 90, 105]\n",
    "tw_group = tuple(('C', j) for j in range(15))\n",
    "cc = tq.CircuitCollection()\n",
    "for fname in sqlist:\n",
    "    with open(fname, 'rb') as f:\n",
    "        srSp = pickle.load(f)\n",
    "    \n",
    "    date = srSp.result.date\n",
    "    for j, qc in zip(sq_lengths, srSp.result.results):\n",
    "        circ = qk.QuantumCircuit.from_qasm_str(qc.header.compiled_circuit_qasm).to_trueq()\n",
    "        circ.results = tq.interface.qiskit.submission._results_from_qiskit(qc)\n",
    "        circ.key = tq.Key(protocol='SRB', twirl=tw_group, compiled_pauli=to_pauli(circ), n_random_cycles=j, date=date)\n",
    "        cc.append(circ)"
   ]
  },
  {
   "cell_type": "code",
   "execution_count": 8,
   "metadata": {},
   "outputs": [],
   "source": [
    "cc.save('sq_nr_data.tq')"
   ]
  },
  {
   "cell_type": "markdown",
   "metadata": {},
   "source": [
    "# Getting two-qubit circuits"
   ]
  },
  {
   "cell_type": "code",
   "execution_count": 23,
   "metadata": {},
   "outputs": [],
   "source": [
    "# fourteenQubitMachineRTwoQubitActive\n",
    "dqlist = glob.glob('../data/doublePickles/InterleavedRuns_[0-9]*.pickle')"
   ]
  },
  {
   "cell_type": "code",
   "execution_count": 24,
   "metadata": {},
   "outputs": [],
   "source": [
    "with open(dqlist[0], 'rb') as f:\n",
    "    srSp = pickle.load(f)"
   ]
  },
  {
   "cell_type": "code",
   "execution_count": 26,
   "metadata": {},
   "outputs": [],
   "source": [
    "dq_cc = tq.CircuitCollection()\n",
    "\n",
    "for qc in srSp.result.results:\n",
    "    circ = qk.QuantumCircuit.from_qasm_str(qc.header.compiled_circuit_qasm).to_trueq()\n",
    "    circ.results = tq.interface.qiskit.submission._results_from_qiskit(qc)\n",
    "    #circ.key = tq.Key(protocol='SRB', twirl=tw_group, compiled_pauli=to_pauli(circ), n_random_cycles=j, date=date)\n",
    "    dq_cc.append(circ)"
   ]
  },
  {
   "cell_type": "code",
   "execution_count": 86,
   "metadata": {},
   "outputs": [],
   "source": [
    "tw_groups = []\n",
    "for a in range(3): #note we use 60+a to guarantee all CZ are present. Also note tw_group is rasterized with period 3\n",
    "    temp = qk.QuantumCircuit.from_qasm_str(srSp.result.results[60 + a].header.compiled_circuit_qasm).to_trueq()\n",
    "    tw_groups.append(tuple(tuple(['C', *k]) for k, v in tq.Simulator().operator(temp).value().items()))"
   ]
  },
  {
   "cell_type": "code",
   "execution_count": 95,
   "metadata": {},
   "outputs": [
    {
     "ename": "KeyboardInterrupt",
     "evalue": "",
     "output_type": "error",
     "traceback": [
      "\u001b[1;31m---------------------------------------------------------------------------\u001b[0m",
      "\u001b[1;31mKeyboardInterrupt\u001b[0m                         Traceback (most recent call last)",
      "\u001b[1;32m<ipython-input-95-23c7f26702f6>\u001b[0m in \u001b[0;36m<module>\u001b[1;34m\u001b[0m\n\u001b[0;32m      8\u001b[0m         \u001b[1;32mfor\u001b[0m \u001b[0ma\u001b[0m \u001b[1;32min\u001b[0m \u001b[0mrange\u001b[0m\u001b[1;33m(\u001b[0m\u001b[1;36m6\u001b[0m\u001b[1;33m)\u001b[0m\u001b[1;33m:\u001b[0m\u001b[1;33m\u001b[0m\u001b[1;33m\u001b[0m\u001b[0m\n\u001b[0;32m      9\u001b[0m             \u001b[0mqc\u001b[0m \u001b[1;33m=\u001b[0m \u001b[0msrSp\u001b[0m\u001b[1;33m.\u001b[0m\u001b[0mresult\u001b[0m\u001b[1;33m.\u001b[0m\u001b[0mresults\u001b[0m\u001b[1;33m[\u001b[0m\u001b[0mn_random\u001b[0m \u001b[1;33m*\u001b[0m \u001b[1;36m6\u001b[0m \u001b[1;33m+\u001b[0m \u001b[0ma\u001b[0m\u001b[1;33m]\u001b[0m\u001b[1;33m\u001b[0m\u001b[1;33m\u001b[0m\u001b[0m\n\u001b[1;32m---> 10\u001b[1;33m             \u001b[0mcirc\u001b[0m \u001b[1;33m=\u001b[0m \u001b[0mqk\u001b[0m\u001b[1;33m.\u001b[0m\u001b[0mQuantumCircuit\u001b[0m\u001b[1;33m.\u001b[0m\u001b[0mfrom_qasm_str\u001b[0m\u001b[1;33m(\u001b[0m\u001b[0mqc\u001b[0m\u001b[1;33m.\u001b[0m\u001b[0mheader\u001b[0m\u001b[1;33m.\u001b[0m\u001b[0mcompiled_circuit_qasm\u001b[0m\u001b[1;33m)\u001b[0m\u001b[1;33m.\u001b[0m\u001b[0mto_trueq\u001b[0m\u001b[1;33m(\u001b[0m\u001b[1;33m)\u001b[0m\u001b[1;33m\u001b[0m\u001b[1;33m\u001b[0m\u001b[0m\n\u001b[0m\u001b[0;32m     11\u001b[0m             \u001b[0mcirc\u001b[0m\u001b[1;33m.\u001b[0m\u001b[0mresults\u001b[0m \u001b[1;33m=\u001b[0m \u001b[0mtq\u001b[0m\u001b[1;33m.\u001b[0m\u001b[0minterface\u001b[0m\u001b[1;33m.\u001b[0m\u001b[0mqiskit\u001b[0m\u001b[1;33m.\u001b[0m\u001b[0msubmission\u001b[0m\u001b[1;33m.\u001b[0m\u001b[0m_results_from_qiskit\u001b[0m\u001b[1;33m(\u001b[0m\u001b[0mqc\u001b[0m\u001b[1;33m)\u001b[0m\u001b[1;33m\u001b[0m\u001b[1;33m\u001b[0m\u001b[0m\n\u001b[0;32m     12\u001b[0m             \u001b[0mcirc\u001b[0m\u001b[1;33m.\u001b[0m\u001b[0mkey\u001b[0m \u001b[1;33m=\u001b[0m \u001b[0mtq\u001b[0m\u001b[1;33m.\u001b[0m\u001b[0mKey\u001b[0m\u001b[1;33m(\u001b[0m\u001b[0mprotocol\u001b[0m\u001b[1;33m=\u001b[0m\u001b[1;34m'SRB'\u001b[0m\u001b[1;33m,\u001b[0m \u001b[0mtwirl\u001b[0m\u001b[1;33m=\u001b[0m\u001b[0mtw_groups\u001b[0m\u001b[1;33m[\u001b[0m\u001b[0ma\u001b[0m \u001b[1;33m%\u001b[0m \u001b[1;36m3\u001b[0m\u001b[1;33m]\u001b[0m\u001b[1;33m,\u001b[0m \u001b[0mcompiled_pauli\u001b[0m\u001b[1;33m=\u001b[0m\u001b[0mto_pauli\u001b[0m\u001b[1;33m(\u001b[0m\u001b[0mcirc\u001b[0m\u001b[1;33m)\u001b[0m\u001b[1;33m,\u001b[0m \u001b[0mn_random_cycles\u001b[0m\u001b[1;33m=\u001b[0m\u001b[0mn_random\u001b[0m\u001b[1;33m,\u001b[0m \u001b[0mdate\u001b[0m\u001b[1;33m=\u001b[0m\u001b[0mdate\u001b[0m\u001b[1;33m)\u001b[0m\u001b[1;33m\u001b[0m\u001b[1;33m\u001b[0m\u001b[0m\n",
      "\u001b[1;32mC:\\dev\\Anaconda3\\lib\\site-packages\\qiskit\\circuit\\quantumcircuit.py\u001b[0m in \u001b[0;36mfrom_qasm_str\u001b[1;34m(qasm_str)\u001b[0m\n\u001b[0;32m   1172\u001b[0m         \"\"\"\n\u001b[0;32m   1173\u001b[0m         \u001b[0mqasm\u001b[0m \u001b[1;33m=\u001b[0m \u001b[0mQasm\u001b[0m\u001b[1;33m(\u001b[0m\u001b[0mdata\u001b[0m\u001b[1;33m=\u001b[0m\u001b[0mqasm_str\u001b[0m\u001b[1;33m)\u001b[0m\u001b[1;33m\u001b[0m\u001b[1;33m\u001b[0m\u001b[0m\n\u001b[1;32m-> 1174\u001b[1;33m         \u001b[1;32mreturn\u001b[0m \u001b[0m_circuit_from_qasm\u001b[0m\u001b[1;33m(\u001b[0m\u001b[0mqasm\u001b[0m\u001b[1;33m)\u001b[0m\u001b[1;33m\u001b[0m\u001b[1;33m\u001b[0m\u001b[0m\n\u001b[0m\u001b[0;32m   1175\u001b[0m \u001b[1;33m\u001b[0m\u001b[0m\n\u001b[0;32m   1176\u001b[0m     \u001b[1;33m@\u001b[0m\u001b[0mproperty\u001b[0m\u001b[1;33m\u001b[0m\u001b[1;33m\u001b[0m\u001b[0m\n",
      "\u001b[1;32mC:\\dev\\Anaconda3\\lib\\site-packages\\qiskit\\circuit\\quantumcircuit.py\u001b[0m in \u001b[0;36m_circuit_from_qasm\u001b[1;34m(qasm)\u001b[0m\n\u001b[0;32m   1239\u001b[0m     \u001b[1;32mfrom\u001b[0m \u001b[0mqiskit\u001b[0m\u001b[1;33m.\u001b[0m\u001b[0mconverters\u001b[0m \u001b[1;32mimport\u001b[0m \u001b[0mast_to_dag\u001b[0m\u001b[1;33m\u001b[0m\u001b[1;33m\u001b[0m\u001b[0m\n\u001b[0;32m   1240\u001b[0m     \u001b[1;32mfrom\u001b[0m \u001b[0mqiskit\u001b[0m\u001b[1;33m.\u001b[0m\u001b[0mconverters\u001b[0m \u001b[1;32mimport\u001b[0m \u001b[0mdag_to_circuit\u001b[0m\u001b[1;33m\u001b[0m\u001b[1;33m\u001b[0m\u001b[0m\n\u001b[1;32m-> 1241\u001b[1;33m     \u001b[0mast\u001b[0m \u001b[1;33m=\u001b[0m \u001b[0mqasm\u001b[0m\u001b[1;33m.\u001b[0m\u001b[0mparse\u001b[0m\u001b[1;33m(\u001b[0m\u001b[1;33m)\u001b[0m\u001b[1;33m\u001b[0m\u001b[1;33m\u001b[0m\u001b[0m\n\u001b[0m\u001b[0;32m   1242\u001b[0m     \u001b[0mdag\u001b[0m \u001b[1;33m=\u001b[0m \u001b[0mast_to_dag\u001b[0m\u001b[1;33m(\u001b[0m\u001b[0mast\u001b[0m\u001b[1;33m)\u001b[0m\u001b[1;33m\u001b[0m\u001b[1;33m\u001b[0m\u001b[0m\n\u001b[0;32m   1243\u001b[0m     \u001b[1;32mreturn\u001b[0m \u001b[0mdag_to_circuit\u001b[0m\u001b[1;33m(\u001b[0m\u001b[0mdag\u001b[0m\u001b[1;33m)\u001b[0m\u001b[1;33m\u001b[0m\u001b[1;33m\u001b[0m\u001b[0m\n",
      "\u001b[1;32mC:\\dev\\Anaconda3\\lib\\site-packages\\qiskit\\qasm\\qasm.py\u001b[0m in \u001b[0;36mparse\u001b[1;34m(self)\u001b[0m\n\u001b[0;32m     67\u001b[0m         \u001b[1;32mwith\u001b[0m \u001b[0mQasmParser\u001b[0m\u001b[1;33m(\u001b[0m\u001b[0mself\u001b[0m\u001b[1;33m.\u001b[0m\u001b[0m_filename\u001b[0m\u001b[1;33m)\u001b[0m \u001b[1;32mas\u001b[0m \u001b[0mqasm_p\u001b[0m\u001b[1;33m:\u001b[0m\u001b[1;33m\u001b[0m\u001b[1;33m\u001b[0m\u001b[0m\n\u001b[0;32m     68\u001b[0m             \u001b[0mqasm_p\u001b[0m\u001b[1;33m.\u001b[0m\u001b[0mparse_debug\u001b[0m\u001b[1;33m(\u001b[0m\u001b[1;32mFalse\u001b[0m\u001b[1;33m)\u001b[0m\u001b[1;33m\u001b[0m\u001b[1;33m\u001b[0m\u001b[0m\n\u001b[1;32m---> 69\u001b[1;33m             \u001b[1;32mreturn\u001b[0m \u001b[0mqasm_p\u001b[0m\u001b[1;33m.\u001b[0m\u001b[0mparse\u001b[0m\u001b[1;33m(\u001b[0m\u001b[0mself\u001b[0m\u001b[1;33m.\u001b[0m\u001b[0m_data\u001b[0m\u001b[1;33m)\u001b[0m\u001b[1;33m\u001b[0m\u001b[1;33m\u001b[0m\u001b[0m\n\u001b[0m",
      "\u001b[1;32mC:\\dev\\Anaconda3\\lib\\site-packages\\qiskit\\qasm\\qasmparser.py\u001b[0m in \u001b[0;36mparse\u001b[1;34m(self, data)\u001b[0m\n\u001b[0;32m   1087\u001b[0m     \u001b[1;32mdef\u001b[0m \u001b[0mparse\u001b[0m\u001b[1;33m(\u001b[0m\u001b[0mself\u001b[0m\u001b[1;33m,\u001b[0m \u001b[0mdata\u001b[0m\u001b[1;33m)\u001b[0m\u001b[1;33m:\u001b[0m\u001b[1;33m\u001b[0m\u001b[1;33m\u001b[0m\u001b[0m\n\u001b[0;32m   1088\u001b[0m         \u001b[1;34m\"\"\"Parse some data.\"\"\"\u001b[0m\u001b[1;33m\u001b[0m\u001b[1;33m\u001b[0m\u001b[0m\n\u001b[1;32m-> 1089\u001b[1;33m         \u001b[0mself\u001b[0m\u001b[1;33m.\u001b[0m\u001b[0mparser\u001b[0m\u001b[1;33m.\u001b[0m\u001b[0mparse\u001b[0m\u001b[1;33m(\u001b[0m\u001b[0mdata\u001b[0m\u001b[1;33m,\u001b[0m \u001b[0mlexer\u001b[0m\u001b[1;33m=\u001b[0m\u001b[0mself\u001b[0m\u001b[1;33m.\u001b[0m\u001b[0mlexer\u001b[0m\u001b[1;33m,\u001b[0m \u001b[0mdebug\u001b[0m\u001b[1;33m=\u001b[0m\u001b[0mself\u001b[0m\u001b[1;33m.\u001b[0m\u001b[0mparse_deb\u001b[0m\u001b[1;33m)\u001b[0m\u001b[1;33m\u001b[0m\u001b[1;33m\u001b[0m\u001b[0m\n\u001b[0m\u001b[0;32m   1090\u001b[0m         \u001b[1;32mif\u001b[0m \u001b[0mself\u001b[0m\u001b[1;33m.\u001b[0m\u001b[0mqasm\u001b[0m \u001b[1;32mis\u001b[0m \u001b[1;32mNone\u001b[0m\u001b[1;33m:\u001b[0m\u001b[1;33m\u001b[0m\u001b[1;33m\u001b[0m\u001b[0m\n\u001b[0;32m   1091\u001b[0m             raise QasmError(\"Uncaught exception in parser; \"\n",
      "\u001b[1;32mC:\\dev\\Anaconda3\\lib\\site-packages\\ply\\yacc.py\u001b[0m in \u001b[0;36mparse\u001b[1;34m(self, input, lexer, debug, tracking, tokenfunc)\u001b[0m\n\u001b[0;32m    331\u001b[0m             \u001b[1;32mreturn\u001b[0m \u001b[0mself\u001b[0m\u001b[1;33m.\u001b[0m\u001b[0mparseopt\u001b[0m\u001b[1;33m(\u001b[0m\u001b[0minput\u001b[0m\u001b[1;33m,\u001b[0m \u001b[0mlexer\u001b[0m\u001b[1;33m,\u001b[0m \u001b[0mdebug\u001b[0m\u001b[1;33m,\u001b[0m \u001b[0mtracking\u001b[0m\u001b[1;33m,\u001b[0m \u001b[0mtokenfunc\u001b[0m\u001b[1;33m)\u001b[0m\u001b[1;33m\u001b[0m\u001b[1;33m\u001b[0m\u001b[0m\n\u001b[0;32m    332\u001b[0m         \u001b[1;32melse\u001b[0m\u001b[1;33m:\u001b[0m\u001b[1;33m\u001b[0m\u001b[1;33m\u001b[0m\u001b[0m\n\u001b[1;32m--> 333\u001b[1;33m             \u001b[1;32mreturn\u001b[0m \u001b[0mself\u001b[0m\u001b[1;33m.\u001b[0m\u001b[0mparseopt_notrack\u001b[0m\u001b[1;33m(\u001b[0m\u001b[0minput\u001b[0m\u001b[1;33m,\u001b[0m \u001b[0mlexer\u001b[0m\u001b[1;33m,\u001b[0m \u001b[0mdebug\u001b[0m\u001b[1;33m,\u001b[0m \u001b[0mtracking\u001b[0m\u001b[1;33m,\u001b[0m \u001b[0mtokenfunc\u001b[0m\u001b[1;33m)\u001b[0m\u001b[1;33m\u001b[0m\u001b[1;33m\u001b[0m\u001b[0m\n\u001b[0m\u001b[0;32m    334\u001b[0m \u001b[1;33m\u001b[0m\u001b[0m\n\u001b[0;32m    335\u001b[0m \u001b[1;33m\u001b[0m\u001b[0m\n",
      "\u001b[1;32mC:\\dev\\Anaconda3\\lib\\site-packages\\ply\\yacc.py\u001b[0m in \u001b[0;36mparseopt_notrack\u001b[1;34m(self, input, lexer, debug, tracking, tokenfunc)\u001b[0m\n\u001b[0;32m   1070\u001b[0m                 \u001b[1;31m# Check the action table\u001b[0m\u001b[1;33m\u001b[0m\u001b[1;33m\u001b[0m\u001b[1;33m\u001b[0m\u001b[0m\n\u001b[0;32m   1071\u001b[0m                 \u001b[0mltype\u001b[0m \u001b[1;33m=\u001b[0m \u001b[0mlookahead\u001b[0m\u001b[1;33m.\u001b[0m\u001b[0mtype\u001b[0m\u001b[1;33m\u001b[0m\u001b[1;33m\u001b[0m\u001b[0m\n\u001b[1;32m-> 1072\u001b[1;33m                 \u001b[0mt\u001b[0m \u001b[1;33m=\u001b[0m \u001b[0mactions\u001b[0m\u001b[1;33m[\u001b[0m\u001b[0mstate\u001b[0m\u001b[1;33m]\u001b[0m\u001b[1;33m.\u001b[0m\u001b[0mget\u001b[0m\u001b[1;33m(\u001b[0m\u001b[0mltype\u001b[0m\u001b[1;33m)\u001b[0m\u001b[1;33m\u001b[0m\u001b[1;33m\u001b[0m\u001b[0m\n\u001b[0m\u001b[0;32m   1073\u001b[0m             \u001b[1;32melse\u001b[0m\u001b[1;33m:\u001b[0m\u001b[1;33m\u001b[0m\u001b[1;33m\u001b[0m\u001b[0m\n\u001b[0;32m   1074\u001b[0m                 \u001b[0mt\u001b[0m \u001b[1;33m=\u001b[0m \u001b[0mdefaulted_states\u001b[0m\u001b[1;33m[\u001b[0m\u001b[0mstate\u001b[0m\u001b[1;33m]\u001b[0m\u001b[1;33m\u001b[0m\u001b[1;33m\u001b[0m\u001b[0m\n",
      "\u001b[1;31mKeyboardInterrupt\u001b[0m: "
     ]
    }
   ],
   "source": [
    "dq_cc = tq.CircuitCollection()\n",
    "for fname in dqlist:\n",
    "    with open(fname, 'rb') as f:\n",
    "        srSp = pickle.load(f)\n",
    "    \n",
    "    date = srSp.result.date\n",
    "    for n_random in range(11):\n",
    "        for a in range(6):\n",
    "            qc = srSp.result.results[n_random * 6 + a]\n",
    "            circ = qk.QuantumCircuit.from_qasm_str(qc.header.compiled_circuit_qasm).to_trueq()\n",
    "            circ.results = tq.interface.qiskit.submission._results_from_qiskit(qc)\n",
    "            circ.key = tq.Key(protocol='SRB', twirl=tw_groups[a % 3], compiled_pauli=to_pauli(circ), n_random_cycles=n_random, date=date)\n",
    "            dq_cc.append(circ)"
   ]
  },
  {
   "cell_type": "code",
   "execution_count": null,
   "metadata": {},
   "outputs": [],
   "source": []
  }
 ],
 "metadata": {
  "kernelspec": {
   "display_name": "Python 3",
   "language": "python",
   "name": "python3"
  },
  "language_info": {
   "codemirror_mode": {
    "name": "ipython",
    "version": 3
   },
   "file_extension": ".py",
   "mimetype": "text/x-python",
   "name": "python",
   "nbconvert_exporter": "python",
   "pygments_lexer": "ipython3",
   "version": "3.7.3"
  }
 },
 "nbformat": 4,
 "nbformat_minor": 2
}
