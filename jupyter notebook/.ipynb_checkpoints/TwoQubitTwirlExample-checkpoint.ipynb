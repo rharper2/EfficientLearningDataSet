{
 "cells": [
  {
   "cell_type": "markdown",
   "metadata": {},
   "source": [
    "# Qiskit\n",
    "\n",
    "Update worksheet allowing the '2 qubit twirl', specific target being 14 Qubit 'Melbourne' Device. \n",
    "\n",
    "Version number written for: 0.7.0\n",
    "\n",
    "As per ususal some of the specifics are going to go out of date pretty quickly but the qasm code etc should be easily adapted. \n",
    "\n",
    "This should run on an appropriate version python3 system where you have \n",
    "\n",
    "`pip3 install -U qiskit`\n",
    "\n",
    "and\n",
    "\n",
    "`pip3 install -U IBMQuantumExperience` (for the script query thing)\n",
    "\n",
    "### Note this wasn't the actual notebook the experiment was run on (there were several), it has also been tidied up a bit. It will however show *how* the experiment was run enabling accurate interpretation of the pickles.\n",
    "\n",
    "##  The Workbook PickleExtractor shows how to extract the relevant data from the pickles.\n",
    "\n",
    "\n",
    "Finally the cell numbers will be a bit messed up - I have re-run some of the files relating to the loading of the sequences (just to double check the correct data is supplied) but obviously can't re-run the cells that use old qiskit versions."
   ]
  },
  {
   "cell_type": "markdown",
   "metadata": {},
   "source": [
    "**Code imports**"
   ]
  },
  {
   "cell_type": "code",
   "execution_count": 1,
   "metadata": {
    "ExecuteTime": {
     "end_time": "2018-09-29T00:04:16.313210Z",
     "start_time": "2018-09-29T00:04:14.460647Z"
    }
   },
   "outputs": [
    {
     "name": "stderr",
     "output_type": "stream",
     "text": [
      "/Users/robin/Development/qiskit/lib/python3.7/site-packages/marshmallow/schema.py:364: ChangedInMarshmallow3Warning: strict=False is not recommended. In marshmallow 3.0, schemas will always be strict. See https://marshmallow.readthedocs.io/en/latest/upgrading.html#schemas-are-always-strict\n",
      "  ChangedInMarshmallow3Warning\n"
     ]
    }
   ],
   "source": [
    "import numpy as np\n",
    "from qiskit import QuantumCircuit, ClassicalRegister, QuantumRegister\n",
    "from qiskit import execute\n",
    "from qiskit import __version__"
   ]
  },
  {
   "cell_type": "markdown",
   "metadata": {},
   "source": [
    "## Case in point re Marshmallow warning."
   ]
  },
  {
   "cell_type": "code",
   "execution_count": 2,
   "metadata": {},
   "outputs": [],
   "source": [
    "from qiskit import IBMQ"
   ]
  },
  {
   "cell_type": "code",
   "execution_count": 3,
   "metadata": {},
   "outputs": [],
   "source": [
    "from qiskit.providers.ibmq.api import ApiError"
   ]
  },
  {
   "cell_type": "code",
   "execution_count": 4,
   "metadata": {},
   "outputs": [
    {
     "data": {
      "text/plain": [
       "'0.7.0'"
      ]
     },
     "execution_count": 4,
     "metadata": {},
     "output_type": "execute_result"
    }
   ],
   "source": [
    "__version__"
   ]
  },
  {
   "cell_type": "markdown",
   "metadata": {},
   "source": [
    "### If this is the first time, we have to save our accounts, using the API key"
   ]
  },
  {
   "cell_type": "code",
   "execution_count": 5,
   "metadata": {},
   "outputs": [],
   "source": [
    "#IBMQ.save_account(\"819b... fill in your API key\")"
   ]
  },
  {
   "cell_type": "code",
   "execution_count": 6,
   "metadata": {},
   "outputs": [],
   "source": [
    "IBMQ.load_accounts()"
   ]
  },
  {
   "cell_type": "markdown",
   "metadata": {},
   "source": [
    "### We also need to set up the API, this allows us to check credits etc."
   ]
  },
  {
   "cell_type": "code",
   "execution_count": 7,
   "metadata": {},
   "outputs": [],
   "source": [
    "from IBMQuantumExperience import IBMQuantumExperience"
   ]
  },
  {
   "cell_type": "code",
   "execution_count": 8,
   "metadata": {},
   "outputs": [],
   "source": [
    "# I am going old fasioned and loading the text of the API via Qconfig so its not in the workbook, but you can just supply it to IBMQuantumExperience, like this\n",
    "#api=IBMQuantumExperience(\"API KEY\")\n",
    "import sys\n",
    "sys.path.append(\"./\")\n",
    "import Qconfig"
   ]
  },
  {
   "cell_type": "code",
   "execution_count": 9,
   "metadata": {},
   "outputs": [],
   "source": [
    "api =IBMQuantumExperience(Qconfig.APItoken)"
   ]
  },
  {
   "cell_type": "markdown",
   "metadata": {},
   "source": [
    "## Set up the backend (we want melbourne), do some initial checks on the number of credits and if the queue is operational\n",
    "\n",
    "(these are all manual checking here)"
   ]
  },
  {
   "cell_type": "code",
   "execution_count": 10,
   "metadata": {},
   "outputs": [
    {
     "name": "stdout",
     "output_type": "stream",
     "text": [
      "Available backends:\n"
     ]
    },
    {
     "data": {
      "text/plain": [
       "[<IBMQBackend('ibmqx4') from IBMQ()>,\n",
       " <IBMQBackend('ibmqx2') from IBMQ()>,\n",
       " <IBMQBackend('ibmq_16_melbourne') from IBMQ()>,\n",
       " <IBMQBackend('ibmq_qasm_simulator') from IBMQ()>]"
      ]
     },
     "execution_count": 10,
     "metadata": {},
     "output_type": "execute_result"
    }
   ],
   "source": [
    "print(\"Available backends:\")\n",
    "IBMQ.backends()\n"
   ]
  },
  {
   "cell_type": "code",
   "execution_count": 11,
   "metadata": {},
   "outputs": [],
   "source": [
    "backend = IBMQ.backends()[2] # there is probably a better way as this will alter if the list changes."
   ]
  },
  {
   "cell_type": "markdown",
   "metadata": {},
   "source": [
    "Note you can always use their qasm simulator to check the twirls are correct. I did that in this case for the first few."
   ]
  },
  {
   "cell_type": "code",
   "execution_count": 12,
   "metadata": {},
   "outputs": [],
   "source": [
    "# The simulator doesn't have one of these, just don't refer to it in the doARun func.\n",
    "coupling_map = backend.configuration().coupling_map"
   ]
  },
  {
   "cell_type": "code",
   "execution_count": 13,
   "metadata": {},
   "outputs": [
    {
     "data": {
      "text/plain": [
       "BackendStatus(backend_name='ibmq_16_melbourne', backend_version='1.0.0', operational=True, pending_jobs=0, status_msg='active')"
      ]
     },
     "execution_count": 13,
     "metadata": {},
     "output_type": "execute_result"
    }
   ],
   "source": [
    "backend.status()"
   ]
  },
  {
   "cell_type": "markdown",
   "metadata": {},
   "source": [
    "### See it is possible that the queues are small ;)"
   ]
  },
  {
   "cell_type": "code",
   "execution_count": 14,
   "metadata": {},
   "outputs": [
    {
     "data": {
      "text/plain": [
       "{'promotional': 70, 'remaining': 54, 'maxUserType': 150}"
      ]
     },
     "execution_count": 14,
     "metadata": {},
     "output_type": "execute_result"
    }
   ],
   "source": [
    "api.get_my_credits()"
   ]
  },
  {
   "cell_type": "markdown",
   "metadata": {},
   "source": [
    "## Next bit sets up the functions to code the RB using the generators \n",
    "\n",
    "(the generators are pre-defined in the Julia notebook that creates the runs, which are stored as a csv - loaded later).\n",
    "\n",
    "Basically I will load a whole lot of pregenerated runs. One reason for this is that if a particular run fails I can re-load and re-try that actual run - this prevents any post-selection bias (i.e. it might be that only a particular type of run succeeds). If a specific run continually fails we need to know why."
   ]
  },
  {
   "cell_type": "code",
   "execution_count": 15,
   "metadata": {},
   "outputs": [],
   "source": [
    "def apply1Qgate(got,q,i,todo):\n",
    "    #[pI,pX,pZ,pP,pH]\n",
    "                if todo == 1: \n",
    "            # I \n",
    "                    got.iden(q[i])\n",
    "                elif todo == 2:\n",
    "            # X\n",
    "                    got.x(q[i])\n",
    "                elif todo==3:\n",
    "            # Z\n",
    "                    got.z(q[i])\n",
    "                elif todo==4: \n",
    "            # Phase (s)\n",
    "                    got.s(q[i])\n",
    "                elif todo == 5: \n",
    "            # (H)\n",
    "                    got.h(q[i])\n",
    "                else:\n",
    "                    print(\"Unknown generator \",str(todo),\"\\n\")"
   ]
  },
  {
   "cell_type": "code",
   "execution_count": 16,
   "metadata": {},
   "outputs": [],
   "source": [
    "def apply2Qgate(got,q,a,b,todo):\n",
    "                if todo == 1: \n",
    "            # I⊗I \n",
    "                    got.iden(q[a])\n",
    "                    got.iden(q[b])\n",
    "                elif todo == 2:\n",
    "            # X⊗I\n",
    "                    got.x(q[a])\n",
    "                    got.iden(q[b])\n",
    "                elif todo == 3:\n",
    "            # Z⊗I\n",
    "                    got.z(q[a])\n",
    "                    got.iden(q[b])\n",
    "\n",
    "                elif todo == 4:\n",
    "            # Ph⊗I\n",
    "                    got.s(q[a])\n",
    "                    got.iden(q[b])\n",
    "\n",
    "                elif todo == 5:\n",
    "            # H⊗I\n",
    "                    got.h(q[a])\n",
    "                    got.iden(q[b])\n",
    "\n",
    "                elif todo == 6:\n",
    "            # I⊗X\n",
    "                    got.iden(q[a])\n",
    "                    got.x(q[b])\n",
    "\n",
    "                elif todo == 7:\n",
    "            # X⊗X\n",
    "                    got.x(q[a])\n",
    "                    got.x(q[b])\n",
    "\n",
    "                elif todo == 8:\n",
    "            # Z⊗X\n",
    "                    got.z(q[a])\n",
    "                    got.x(q[b])\n",
    "\n",
    "                elif todo == 9:\n",
    "            # Ph⊗X\n",
    "                    got.s(q[a])\n",
    "                    got.x(q[b])\n",
    "\n",
    "                elif todo == 10:\n",
    "            # H⊗X\n",
    "                    got.h(q[a])\n",
    "                    got.x(q[b])\n",
    "                elif todo == 11:\n",
    "            # I⊗Z\n",
    "                    got.iden(q[a])\n",
    "                    got.z(q[b])\n",
    "\n",
    "                elif todo == 12:\n",
    "            # X⊗Z\n",
    "                    got.x(q[a])\n",
    "                    got.z(q[b])\n",
    "\n",
    "                elif todo == 13:\n",
    "            # Z⊗Z\n",
    "                    got.z(q[a])\n",
    "                    got.z(q[b])\n",
    "\n",
    "                elif todo == 14:\n",
    "            # Ph⊗Z\n",
    "                    got.s(q[a])\n",
    "                    got.z(q[b])\n",
    "\n",
    "                elif todo == 15:\n",
    "            # H⊗Z\n",
    "                    got.h(q[a])\n",
    "                    got.z(q[b])\n",
    "\n",
    "                elif todo == 16:\n",
    "            # I⊗Ph\n",
    "                    got.iden(q[a])\n",
    "                    got.s(q[b])\n",
    "\n",
    "                elif todo == 17:\n",
    "            # X⊗Ph\n",
    "                    got.x(q[a])\n",
    "                    got.s(q[b])\n",
    "\n",
    "                elif todo == 18:\n",
    "            # Z⊗Ph\n",
    "                    got.z(q[a])\n",
    "                    got.s(q[b])\n",
    "\n",
    "                elif todo == 19:\n",
    "            # Ph⊗Ph\n",
    "                    got.s(q[a])\n",
    "                    got.s(q[b])\n",
    "\n",
    "                elif todo == 20:\n",
    "            # H⊗Ph\n",
    "                    got.h(q[a])\n",
    "                    got.s(q[b])\n",
    "\n",
    "                elif todo == 21:\n",
    "            #  I⊗H\n",
    "                    got.iden(q[a])\n",
    "                    got.h(q[b])\n",
    "\n",
    "                elif todo == 22:\n",
    "            # X⊗H\n",
    "                    got.x(q[a])\n",
    "                    got.h(q[b])\n",
    "\n",
    "                elif todo == 23:\n",
    "            # Z⊗H\n",
    "                    got.z(q[a])\n",
    "                    got.h(q[b])\n",
    "\n",
    "                elif todo == 24:\n",
    "            # Ph⊗H\n",
    "                    got.s(q[a])\n",
    "                    got.h(q[b])\n",
    "\n",
    "                elif todo == 25:\n",
    "            # H⊗H\n",
    "                    got.h(q[a])\n",
    "                    got.h(q[b])\n",
    "\n",
    "                elif todo == 26:\n",
    "            # CZ\n",
    "                    got.cz(q[a],q[b])\n",
    "                else:\n",
    "                    print(\"Unknown generator \",str(todo),\"\\n\")\n",
    "\n"
   ]
  },
  {
   "cell_type": "code",
   "execution_count": 17,
   "metadata": {},
   "outputs": [],
   "source": [
    "# This is the work horse of setting up the qasm we want to run. Big picture, list containing 8 lists of clifford runs, \n",
    "# In this particular workbook the first 6 lists are two qubit runs. The last 2 lists are single qubit runs.\n",
    "# There would be/will be another workbook where I just do 14 lists of single qubit runs. Each run is the generators\n",
    "# of a Clifford followed by a zero. The runs are self-inverting.\n",
    "\n",
    "# Here we want to do a number of two qubits, but can't activate the 2 qubits over more than one pair\n",
    "# With the 14 qubit melbourne machine we can get 6 2 qubit pairs and two single qubit pairs.\n",
    "# This is hard coded into here. qlist will be a list containing 6 tuples of two qubits that will\n",
    "# have a two qubit rb applied, the remaing two entries of qlist will have single qubits that will have\n",
    "# single rb applied.\n",
    "# toPrepare contains the runs, ie 8 lists the first 6 containing two qubit generators\n",
    "# the next 2 containing one qubit generators.\n",
    "# barriers set up when all the lists reach 0.\n",
    "\n",
    "# One of the subtelties is that we need to do all the gates on each qubit or qubit pair up to a 'barrier' before\n",
    "# we do the barrier  - finished is when a particular qubit/pair have done all their generator gates for that run\n",
    "# when all the qubits/pairs are 'finished' then we insert the barrier - remember they may have different numbers\n",
    "# of generators. \n",
    "# Index is the index into the list for each qubit/pair.\n",
    "# Turning debug on will give you so much information your eyes will bleed.\n",
    "\n",
    "# This specific version of this function is specific to the idea that we have exactly 8 runs (6 two qubit runs and two single qubit runs)\n",
    "# There is a more general version in the updated files.\n",
    "\n",
    "def setUp2QRun(toPrepare,got,q,qlist):\n",
    "    # Given a list of generators in toPrepare, so them. 0 = we need a barrier.\n",
    "    # The generators for the single qubit cliffords are: [\"I\",\"X\",\"Z\",\"Ph\",\"H\"]\n",
    "    # q are the gates and qlist the pairs we want to apply them to.\n",
    "    # Although we don't actually use I apart from I.\n",
    "    debug = False\n",
    "    ignoreFirst = False\n",
    "    finished = [False,False,False,False,False,False,False,False]\n",
    "    index = [0,0,0,0,0,0,0,0]\n",
    "    numberOfRuns = 8\n",
    "    numberOfSingles = 2\n",
    "    if len(qlist) != 8:\n",
    "        print(\"Error wrong number of qubits\")\n",
    "        return\n",
    "    while (True):\n",
    "     for i in range(0,numberOfRuns):\n",
    "      if debug:\n",
    "        print(\"I is: \",i)\n",
    "        print(\"Doing: \",toPrepare[i])\n",
    "        print(\"Qubits: \",qlist[i],\" Current index:\",index[i])\n",
    "      if all(finished):\n",
    "          if debug:\n",
    "              print(\"=====================================================\")\n",
    "              print(\"All finished, doing barrier and increasing index\")\n",
    "              print(\"=====================================================\")\n",
    "          if ignoreFirst == True:\n",
    "            ignoreFirst = False\n",
    "          else:\n",
    "            got.barrier()\n",
    "          finished = [False,False,False,False,False,False,False,False]\n",
    "          if all([index[x] >= len(toPrepare[x]) for x in range(0,numberOfRuns)]):\n",
    "            return\n",
    "        # Check the index hasn't strayed outside the gate length.\n",
    "      # Deal with 1 first\n",
    "      if not finished[i]:\n",
    "            if debug:\n",
    "                print(\"Index is \",index)\n",
    "                print(\"i is \",i)\n",
    "                print(\"index[i] is \",index[i])\n",
    "            if index[i] >= len(toPrepare[i]):\n",
    "                finished[i] = True\n",
    "            else: \n",
    "                todo = toPrepare[i][index[i]]\n",
    "                if debug:\n",
    "                    print(\"Acting on generator (1): \",todo, \" for qubits \",qlist[i])\n",
    "                index[i]= index[i]+1\n",
    "                if index[i]>= len(toPrepare[i]):\n",
    "                    finished[i] = True\n",
    "                elif todo == 0 :\n",
    "                    finished[i] = True\n",
    "                    if debug:\n",
    "                        print(\"Setting 1 \",i,\" to finished\")\n",
    "                else: \n",
    "                    a = qlist[i]\n",
    "                    if i < 6:\n",
    "                        if debug:\n",
    "                            print(\"Less than 6 so double qubit\")\n",
    "                            print(\"i is \",i)\n",
    "                            print(\"We have qubits, \",a[0],\" and \",a[1])\n",
    "                        apply2Qgate(got,q,a[0],a[1],todo)\n",
    "                    else:\n",
    "                        apply1Qgate(got,q,a,todo)\n",
    "             "
   ]
  },
  {
   "cell_type": "code",
   "execution_count": 7,
   "metadata": {},
   "outputs": [],
   "source": [
    "# This is one I prepared ealier. In a Julia notebook more precisely. See that part of the repo for details\n",
    "import csv \n",
    "with open('../randomSequences/GensforClifford6q_12000x11_0_1_10.csv', 'r') as csvfile:\n",
    "     reader = csv.reader(csvfile)\n",
    "     experiments14 = [[int(i) for i in x] for x in reader]\n",
    "\n",
    "\n"
   ]
  },
  {
   "cell_type": "code",
   "execution_count": 8,
   "metadata": {
    "scrolled": false
   },
   "outputs": [
    {
     "name": "stdout",
     "output_type": "stream",
     "text": [
      "[1, 1, 1, 1, 1, 1, 1, 1]\n",
      "[2, 2, 2, 2, 2, 2, 2, 2]\n",
      "[3, 3, 3, 3, 3, 3, 3, 3]\n",
      "[4, 4, 4, 4, 4, 4, 4, 4]\n",
      "[5, 5, 5, 5, 5, 5, 5, 5]\n",
      "[6, 6, 6, 6, 6, 6, 6, 6]\n",
      "[7, 7, 7, 7, 7, 7, 7, 7]\n",
      "[8, 8, 8, 8, 8, 8, 8, 8]\n",
      "[9, 9, 9, 9, 9, 9, 9, 9]\n",
      "[10, 10, 10, 10, 10, 10, 10, 10]\n",
      "[11, 11, 11, 11, 11, 11, 11, 11]\n",
      "[1, 1, 1, 1, 1, 1, 1, 1]\n",
      "[2, 2, 2, 2, 2, 2, 2, 2]\n",
      "[3, 3, 3, 3, 3, 3, 3, 3]\n",
      "[4, 4, 4, 4, 4, 4, 4, 4]\n",
      "[5, 5, 5, 5, 5, 5, 5, 5]\n",
      "[6, 6, 6, 6, 6, 6, 6, 6]\n",
      "[7, 7, 7, 7, 7, 7, 7, 7]\n",
      "[8, 8, 8, 8, 8, 8, 8, 8]\n",
      "[9, 9, 9, 9, 9, 9, 9, 9]\n",
      "[10, 10, 10, 10, 10, 10, 10, 10]\n",
      "[11, 11, 11, 11, 11, 11, 11, 11]\n",
      "[1, 1, 1, 1, 1, 1, 1, 1]\n",
      "[2, 2, 2, 2, 2, 2, 2, 2]\n",
      "[3, 3, 3, 3, 3, 3, 3, 3]\n",
      "[4, 4, 4, 4, 4, 4, 4, 4]\n",
      "[5, 5, 5, 5, 5, 5, 5, 5]\n",
      "[6, 6, 6, 6, 6, 6, 6, 6]\n",
      "[7, 7, 7, 7, 7, 7, 7, 7]\n",
      "[8, 8, 8, 8, 8, 8, 8, 8]\n"
     ]
    }
   ],
   "source": [
    "# This sanity check shows the steady increase of Clifford gate lengths.\n",
    "for i in range(30):\n",
    "    print([e.count(0) for e in experiments14[i*8:(i+1)*8]])\n",
    "\n"
   ]
  },
  {
   "cell_type": "markdown",
   "metadata": {},
   "source": [
    "### By way of example some of the lists...\n",
    "\n",
    "In each case we have 6 two-qubit then 2 onequbit runs. Then we repeat this but for increasing lengths of Cliffords.\n",
    "We start with 0 Cliffords (just the odd X gate to eliminate measurement bias) and build up to 10.\n",
    "\n",
    "This is because the errors when we use 2 qubit gates are relatively high and after that we just have noise.\n",
    "\n",
    "The '0' gate is not ideal, but it proved very important to get fits as even with one two qubit Clifford it was difficult to get an accurate fit, but the 0 version anchored it somewhat. On reflection if I were to redo this I might start with a round of single qubit Cliffords rather than a 0 sequence.\n"
   ]
  },
  {
   "cell_type": "code",
   "execution_count": 9,
   "metadata": {},
   "outputs": [
    {
     "name": "stdout",
     "output_type": "stream",
     "text": [
      "[0, 0, 0, 0, 0, 0, 0, 0]\n",
      "[4, 2, 6, 0, 4, 4, 0, 0]\n",
      "[6, 4, 6, 4, 5, 5, 0, 0]\n",
      "[7, 9, 6, 7, 7, 6, 0, 0]\n",
      "[9, 8, 10, 10, 12, 7, 0, 0]\n",
      "[12, 9, 14, 13, 8, 10, 0, 0]\n",
      "[13, 12, 12, 14, 13, 12, 0, 0]\n",
      "[15, 13, 15, 14, 17, 14, 0, 0]\n",
      "[17, 12, 13, 16, 10, 13, 0, 0]\n",
      "[16, 18, 10, 19, 18, 18, 0, 0]\n",
      "[19, 19, 20, 16, 15, 18, 0, 0]\n",
      "[0, 0, 0, 0, 0, 0, 0, 0]\n",
      "[2, 4, 4, 2, 3, 4, 0, 0]\n",
      "[4, 2, 7, 4, 3, 4, 0, 0]\n",
      "[6, 8, 8, 9, 6, 5, 0, 0]\n",
      "[7, 6, 6, 9, 8, 11, 0, 0]\n",
      "[8, 9, 10, 10, 11, 10, 0, 0]\n",
      "[12, 13, 11, 11, 11, 15, 0, 0]\n",
      "[10, 16, 15, 13, 14, 12, 0, 0]\n",
      "[16, 15, 12, 16, 19, 12, 0, 0]\n",
      "[18, 19, 20, 15, 14, 17, 0, 0]\n",
      "[24, 19, 17, 15, 19, 18, 0, 0]\n",
      "[0, 0, 0, 0, 0, 0, 0, 0]\n",
      "[6, 4, 2, 2, 2, 3, 0, 0]\n",
      "[6, 5, 6, 5, 7, 4, 0, 0]\n",
      "[6, 8, 8, 8, 8, 8, 0, 0]\n",
      "[7, 8, 12, 8, 9, 9, 0, 0]\n",
      "[8, 10, 7, 13, 11, 11, 0, 0]\n",
      "[15, 12, 13, 13, 9, 12, 0, 0]\n",
      "[8, 17, 16, 16, 13, 11, 0, 0]\n"
     ]
    }
   ],
   "source": [
    "# Final sanity check shows the increasing numbers of c-z gates, and the fact that we don't have them on the two last qubits,\n",
    "# i.e. these last two are single qubit twirls.\n",
    "for i in range(30):\n",
    "    print([e.count(26) for e in experiments14[i*8:(i+1)*8]])\n"
   ]
  },
  {
   "cell_type": "code",
   "execution_count": null,
   "metadata": {},
   "outputs": [],
   "source": [
    "# random is needed for the initial X gates. In order to minimise SPAM (i.e. B=0.5/0.25 in old parlance)\n",
    "# a random mix of which state we return it to is best. Could seed this if you want.\n",
    "import random\n",
    "# The rest are for saving and logging.\n",
    "import datetime\n",
    "import os\n",
    "import pickle"
   ]
  },
  {
   "cell_type": "code",
   "execution_count": null,
   "metadata": {},
   "outputs": [],
   "source": [
    "# This just makes it easier to pickle the bit pattern used to randomise the 'expected' measurements\n",
    "class savedPair:\n",
    "    def __init__(self, bits,result):\n",
    "        self.bits = bits\n",
    "        self.result = result\n",
    "\n",
    "\n",
    "\n"
   ]
  },
  {
   "cell_type": "code",
   "execution_count": null,
   "metadata": {},
   "outputs": [],
   "source": [
    "# At one point I thought this would be a nice way to rate limit the script.\n",
    "# j.result() is supposed to block until the job has been done. However when the machine\n",
    "# gets busy sometimes jobs go to Running status and never come out!\n",
    "# So we test for jobstatus being done, before 'blocking' and try and catch and do \n",
    "# sensible things with other errors.\n",
    "# Hand in a bunch of bit strings and jobs (created by doARun see later), iterate through getting \n",
    "# The results and saving them.\n",
    "from qiskit.providers import JobStatus\n",
    "\n",
    "\n",
    "def savePairs(bs,js,start,number,savePrefix,forced = False,):\n",
    "    now = datetime.datetime.now()\n",
    "    print(\"Saving at time: \",now.strftime(\"%d %B: %r \"))\n",
    "    for (idx,j) in enumerate(js):\n",
    "        bits = bs[idx*number:(idx+1)*number]\n",
    "        if forced or not os.path.isfile('InterleavedRuns'+savePrefix+str(start+idx)+'.pickle'):\n",
    "            with open('InterleavedRuns'+savePrefix+str(idx+start)+'.pickle','wb') as f:\n",
    "                try:\n",
    "                    if j.status() == JobStatus.DONE:\n",
    "                        res = j.result()\n",
    "                        pickle.dump(savedPair(bits,res),f)\n",
    "                    else:\n",
    "                        print(\"Job idx: \",start+idx,\" not yet DONE ***** NOT SAVED ******\")\n",
    "                except ApiError as ex:\n",
    "                    print(\"There was a api exception error\")\n",
    "                    template = \"An exception of type {0}. Args \\n{1!r}\"\n",
    "                    message = template.format(type(ex).__name__,ex.args)\n",
    "                    print(message)\n",
    "                    print(\"Ignoring this for now, but NOT saved.\")\n",
    "                except Exception as ex2:\n",
    "                    print(\"There was a non-api exception error\")\n",
    "                    template = \"An exception of type {0}. Args \\n{1!r}\"\n",
    "                    message = template.format(type(ex2).__name__,ex2.args)\n",
    "                    print(message)\n",
    "                    print(\"Ignoring this for now, but NOT saved.\")\n",
    "            print(\"Saved: \"+str(idx+start))"
   ]
  },
  {
   "cell_type": "code",
   "execution_count": 31,
   "metadata": {},
   "outputs": [],
   "source": [
    "# NOTE historical purposes only, look at the modern one if you wish to replicate.\n",
    "\n",
    "\"\"\"\n",
    "bitGroups is the pair/single qubit coupling. Has to conform to the coupling map of the device.\n",
    "This particular function is going to assume 6 qubit pairs (which will have the two qubit stuff applied) \n",
    "followed by two single qubits that will have single gate RB applied.\n",
    "The order of the qubits is not important, the pairs just have to be connected to each other.\n",
    "The start, stop is an index into the csv (experiments14) which runs to use.\n",
    "Recall expermients14 has 11 sequences (of increasing length - julia=1:2:22 i.e., Python range(1,22,2)\n",
    "So for each of the experiments from start to stop, run each of the 11 sequences as a combined job.\n",
    "Non-blocking.\n",
    "Returns the bit pattern and the job id's.\n",
    "New: -> Will save both of these if it can as a temp file. This will allow the JOBID to be associated with\n",
    "the correct bit pattern. Later (if the job was successful) we can use the ID to load the results and \n",
    "save the results with the bit pattern.\n",
    "Finally sometimes we can submit the job but getting the job_id is problematic. This will alert if there was a problem.\n",
    "In which case you will have to use the list returned here. (so don't restart the kernel!)\n",
    "\n",
    "\n",
    "NOTE: IT IS ABSOLUTELY VITAL TO PASS IN THE INITIAL_LAYOUT (and coupling map?) AS OTHERWISE IBM WILL OPTIMISE\n",
    "AND WE ARE FUBARED IF WE ARE TRYING TO FIND OUT QUBIT TO QUBIT CORRELATIONS.\n",
    "\"\"\"\n",
    "def doARun(start,stop,savePrefix=\"_temp_\",api=None): #=[[1,2],[3,4],[5,6],[7,8],[9,10],[11,12],[13,0]]):\n",
    " set1 = [[0,1],[2,3],[13,12],[4,5],[11,10],[9,8],6,7]\n",
    " set2 = [[0,1],[2,3],[13,12],[4,10],[5,9],[6,8],11,7]\n",
    " set3 = [[1,2],[3,4],[5,6],[11,12],[9,10],[8,7],13,0]\n",
    "\n",
    " sets = [set1,set2,set3,set1,set2,set3]\n",
    "\n",
    " jobsList=[]\n",
    " bitFlips=[]\n",
    " shots = 1024           # Number of shots to run the program (experiment); maximum is 8192 shots.\n",
    " max_credits = 5       # Maximum number of credits to spend on executions. \n",
    " numberOfSeq = 11\n",
    " numberOfGroups = len(set1)\n",
    " jobrange = range(0,numberOfSeq)\n",
    "\n",
    "\n",
    " jobrange = range(0,11)\n",
    " initial_layout={(\"q\", 0): (\"q\", 0), (\"q\", 1): (\"q\", 1), (\"q\", 2): (\"q\", 2), (\"q\", 3): (\"q\", 3),\n",
    "                (\"q\", 4): (\"q\", 4), (\"q\", 5): (\"q\", 5), (\"q\", 6): (\"q\", 6), (\"q\", 7): (\"q\", 7),\n",
    "                (\"q\", 8): (\"q\", 8), (\"q\", 9): (\"q\", 9), (\"q\", 10): (\"q\", 10), (\"q\", 11): (\"q\", 11),\n",
    "                 (\"q\", 12): (\"q\", 12), (\"q\", 13): (\"q\", 13)\n",
    "                }\n",
    " \n",
    " for myIndexX in range(start,stop):\n",
    "    shots = 1024\n",
    "    circuits = [] \n",
    "    #backend = 'ibmq_16_melbourne'\n",
    "   #backend = 'ibmq_qasm_simulator'\n",
    "    collectedExperimentNo = myIndexX\n",
    "    theExperiments = [([experiments14[i] for i in \n",
    "                           range(\n",
    "                               (collectedExperimentNo+ty)*(numberOfGroups*numberOfSeq)+seqNo*numberOfGroups+0,\n",
    "                               (collectedExperimentNo+ty)*(numberOfGroups*numberOfSeq)+seqNo*numberOfGroups+numberOfGroups,\n",
    "                               1)],sets[ty]) for seqNo in jobrange for ty in range(len(sets))]\n",
    "    names = [\"s\"+str(indexNo) for indexNo in range(0,len(theExperiments))]\n",
    "    q = QuantumRegister(14,'q')\n",
    "    c = ClassicalRegister(14,'c')\n",
    "    runFlips = []\n",
    "    \n",
    "    for indexNo in range(0,len(theExperiments)):\n",
    "        (experimentToDo,bitGroups) = theExperiments[indexNo]\n",
    "        #[print(\"I\",indexNo,\"->\",len(experimentsToDoA[r])) for r in range(8)]\n",
    "        name = \"s\" + str(indexNo)\n",
    "        circ = QuantumCircuit(q, c)\n",
    "        st=\"{0:014b}\".format(random.randint(0,2**14-1))\n",
    "        for (spos,flip) in enumerate(st):\n",
    "            if flip=='1':\n",
    "                circ.x(q[spos])\n",
    "        runFlips = runFlips + [st]\n",
    "        setUp2QRun(experimentToDo,circ,q,bitGroups) \n",
    "        circ.barrier()\n",
    "        # Put the correct qubit in the correct classical register (the cnot gates swap this)\n",
    "        for i in range(0,14):\n",
    "            circ.measure(q[i], c[i])\n",
    "        circuits += [circ]\n",
    "       \n",
    "        # This is older code commented out. Use the modern equivalent to see exactly how your qasm compiles.\n",
    "        # Important if you need to check barriers, how it optimises and qubit allocation.\n",
    "        \n",
    "        #qobj1 = Q_program.compile(name, backend=backend,initial_layout=initial_layout,coupling_map=device_coupling)\n",
    "        #print(Q_program.get_compiled_qasm(qobj1,name))\n",
    "        #print(Q_program.get_qasm(name))\n",
    "\n",
    "\n",
    "    print(\"Sending one off\")\n",
    "    if not api is None:\n",
    "        try:\n",
    "            # Busy periods sometimes get a gateway timeout, safe to ignore\n",
    "            while api.get_my_credits()['remaining'] < 5:\n",
    "                now = datetime.datetime.now()\n",
    "                print(\"API credit check failed at \", now.strftime(\"%d %B: %r\"))\n",
    "                print(api.get_my_credits())\n",
    "                print(\"Sleeping for a bit.\")\n",
    "                time.sleep(60*30)\n",
    "        except Exception as ex:\n",
    "            print(\"Got an exception whilst checking the credit situation. It is almost certainly just a maintenance issue.\")\n",
    "            template = \"An exception of type {0}. Args \\n{1!r}\"\n",
    "            message = template.format(type(ex).__name__,ex.args)\n",
    "            print(message)\n",
    "            print(\"Ill sleep for 30 minutes and then continue.\")\n",
    "            time.sleep(60*30)\n",
    "\n",
    "    # This will not be idiomatic Python - should find out `better` way to write this\n",
    "    # Basically if we don't get an error free response from a backend query, sleep and try again.\n",
    "    \n",
    "    errorFree = False\n",
    "    # If its down wait for it to come back up. \n",
    "    # This attempts to stop everything going horribly wrong cause the machine is down for e.g. maintenance.\n",
    "    while not errorFree:\n",
    "        try:\n",
    "            while not backend.status().operational:\n",
    "                now = datetime.datetime.now()\n",
    "                print(\"Device not operational at\", now.strftime(\"%d %B: %r\"), \", sleeping for a bit\")\n",
    "                time.sleep(60*10) # 10 minutes.\n",
    "            errorFree = True\n",
    "        except KeyboardInterrupt:\n",
    "            print(\"Keboard interrupt whilst waiting for the backend to come back up\")\n",
    "            print(\"Going to return with what has been done so far\")\n",
    "            return (jobsList,bitFlips)\n",
    "        except Exception as ex:\n",
    "            print(\"Got an exception whilst checking the backend operational status. It is almost certainly just a maintenance issue.\")\n",
    "            template = \"An exception of type {0}. Args \\n{1!r}\"\n",
    "            message = template.format(type(ex).__name__,ex.args)\n",
    "            print(message)\n",
    "            print(\"Ill sleep for 30 minutes and then recheck.\")\n",
    "            time.sleep(60*30)\n",
    "    # if we run with simulator take out the coupling.\n",
    "    job_exp = execute(circuits, backend=backend, shots=shots, max_credits=max_credits,initial_layout=initial_layout,coupling_map=coupling_map)\n",
    "    jobsList=jobsList+[job_exp]  \n",
    "    bitFlips = bitFlips+runFlips\n",
    "    \n",
    "    # So now we want the jobid so we can pickle it. Can't pickle the job_exp as its threadlocked.\n",
    "    # We can get errors trying to get the jobid from the submitted job\n",
    "    # Try to deal with them gracefully.\n",
    "    try:\n",
    "        jobId = job_exp.job_id()\n",
    "        with open(\"fourteenQubitMachineTempSave\"+savePrefix+str(myIndexX)+\".pickle\",'wb') as f:\n",
    "            pickle.dump(savedPair(runFlips,jobId),f)\n",
    "        now = datetime.datetime.now()\n",
    "        print(\"saved bits and jobid: \", now.strftime(\"%d %B: %r\"))\n",
    "    # The type of error wasn't very consistent. Often its some failure on the backend device.\n",
    "    # Running slow etc etc. So just catch any error. Wait a bit, try again. Give up.\n",
    "    \n",
    "    #except ApiError as ex: # Query other errors are we going to bomb out here sometimes.\n",
    "    #    print(\"There was a api exception error\")\n",
    "    #    template = \"An exception of type {0}. Args \\n{1!r}\"\n",
    "    #    message = template.format(type(ex).__name__,ex.args)\n",
    "    #    print(message)\n",
    "    #    print(\"Ignoring this for now, but NOT saved.\")\n",
    "    except Exception as ex:\n",
    "        template = \"An exception of type {0}. Args \\n{1!r}\"\n",
    "        message = template.format(type(ex).__name__,ex.args)\n",
    "        print(message)\n",
    "        print(\"We got an error, probably timing, things might be busy job ids not available. etc\")\n",
    "        time.sleep(60*2)\n",
    "        try:\n",
    "            jobId = job_exp.job_id()\n",
    "            with open(\"InterleavedRuns_jobid_\"+savePrefix+str(myIndexX)+\".pickle\",'wb') as f:\n",
    "                pickle.dump(savedPair(runFlips,jobId),f)\n",
    "            now = datetime.datetime.now()\n",
    "            print(\"saved bits and jobid: \", now.strftime(\"%d %B: %r\"))\n",
    "        except Exception as ex2:\n",
    "            print(\"That really didn't work, so just NOT SAVING, well only the bits. You will have the job in the returned lists, lose that an you have to re-run this.\")\n",
    "            template = \"An exception of type {0}. Args \\n{1!r}\"\n",
    "            message = template.format(type(ex2).__name__,ex2.args)\n",
    "            print(message)\n",
    "            # Its a bit pointless just saving the bits, but here we go.\n",
    "            with open(\"fourteenQubitMachineTempSave\"+savePrefix+str(myIndexX)+\".pickle\",'wb') as f:\n",
    "                        pickle.dump(savedPair(runFlips,[]),f)\n",
    "      \n",
    "    print(\"Sent off\",myIndexX)\n",
    " #return\n",
    " return (jobsList,bitFlips)\n",
    "\n"
   ]
  },
  {
   "cell_type": "code",
   "execution_count": 57,
   "metadata": {},
   "outputs": [],
   "source": [
    "rqbs = [[0,1],[2,3],[5,6],[7,8],[9,10],[12,13],4,11]\n",
    "\n",
    "\n",
    "# Tailored for my batching. \n",
    "def nextOnes(x,blockSize):\n",
    "    print(\"Do \",x,\"->\",x+blockSize)\n",
    "    (a1,b1)=doARun(x,x+blockSize,rqbs,savePrefix=\"_temp_\",api=api)\n",
    "    return (a1,b1)\n",
    "\n",
    "\n"
   ]
  },
  {
   "cell_type": "code",
   "execution_count": 26,
   "metadata": {},
   "outputs": [],
   "source": [
    "import time"
   ]
  },
  {
   "cell_type": "code",
   "execution_count": 63,
   "metadata": {
    "scrolled": false
   },
   "outputs": [],
   "source": [
    "#combinedResults = []\n",
    "#currentIndex = 0\n",
    "\n",
    "# Send a block of results off. Pass in previous runs and where you got up to\n",
    "# Returns a tuple of updated runs and where you are now up to.\n",
    "# Attempts to save the previous 'block' on the assumption that most of these\n",
    "# Runs are already done. This isn't strictly necessary and can cause problems\n",
    "# Could do this on a sperate thread. We have the temp files saved with doARun if \n",
    "# we don't save here. But between the two methods I seem to get most stuff.\n",
    "\n",
    "def doABlock(combinedResults,index,blockSize):\n",
    "    now = datetime.datetime.now()\n",
    "    print(\"Do a block at time: \",now.strftime(\"%d %B: %r \"))\n",
    "    combinedResults += [nextOnes(index,blockSize)]\n",
    "    # still in two minds about saving the results.\n",
    "    if len(combinedResults) > 1:\n",
    "        try:\n",
    "            print(\"Starting a save of previous results: \",datetime.datetime.now().strftime(\"%d %B: %r\"))\n",
    "            (jx,bx) = combinedResults[-2] # i.e. previous set, not the ones just sent.\n",
    "            savePairs(bx,jx,currentIndex-blockSize,11,'_')\n",
    "            print(\"Finished a save of previous results: \",datetime.datetime.now().strftime(\"%d %B: %r\"))\n",
    "        except Exception as ex:\n",
    "            print(\"There was an exception error, when saving results\")\n",
    "            template = \"An exception of type {0}. Args \\n{1!r}\"\n",
    "            message = template.format(type(ex).__name__,ex.args)\n",
    "            print(message)\n",
    "            print(\"Ignoring this for now, but RESULTS NOT saved.\")\n",
    "    return (combinedResults,index+blockSize)\n",
    "\n",
    "\n"
   ]
  },
  {
   "cell_type": "code",
   "execution_count": 60,
   "metadata": {},
   "outputs": [],
   "source": [
    "# AS AN EXAMPLE\n",
    "\n",
    "# This is what I do if I have a catch up run, eg if some runs failed to work properly e.g. too busy\n",
    "# todo =[801,803,804,808,809,810,812,819,820,834,837,838,839]\n",
    "# combinedResults = []\n",
    "#(combinedResults,currentIndex) = doABlock(combinedResults,766,1)\n",
    "#for t in todo:\n",
    "#    (combinedResults,currentIndex) = doABlock(combinedResults,t,1)\n",
    "\n",
    "# Then LATER\n",
    "\n",
    "\n",
    "#for (idx,i) in enumerate(combinedResults):\n",
    "#    print(i[0][0].status())\n",
    "#    (jx,bx)=i\n",
    "#    savePairs(bx,jx,todo[idx],11,'InitialBatchSpecified')\n",
    "\n"
   ]
  },
  {
   "cell_type": "code",
   "execution_count": null,
   "metadata": {},
   "outputs": [],
   "source": [
    "# Then we just have run it, this can take a long time!\n",
    "# At this stage I just want to do 0-1000 in batches of 50.\n",
    "# A quick peek showed it wasn't particularly busy.\n",
    "\n",
    "## NOTE AGAIN SEE UPTODATE WORKBOOK _ you can't run it like this anymore.\n",
    "\n",
    "combinedResults = []\n",
    "currentIndex = 0\n",
    "for i in range(0,20): # very optimistically going to do 1000 runs overnight!\n",
    "    print(\"Going to do a Block \",currentIndex+i*50,\" -> \",currentIndex+(i+1)*50)\n",
    "    (combinedResults,currentIndex) = doABlock(combinedResults,currentIndex,50)\n",
    "    print(\"Nap time, nap begins: \",datetime.datetime.now().strftime(\"%d %B: %r\"))\n",
    "    time.sleep(60*30)\n",
    "    print(\"Oakely doakely, time for work: \",datetime.datetime.now().strftime(\"%d %B: %r\"))\n",
    "\n",
    "    "
   ]
  },
  {
   "cell_type": "code",
   "execution_count": 38,
   "metadata": {},
   "outputs": [
    {
     "data": {
      "text/plain": [
       "1000"
      ]
     },
     "execution_count": 38,
     "metadata": {},
     "output_type": "execute_result"
    }
   ],
   "source": [
    "currentIndex"
   ]
  },
  {
   "cell_type": "code",
   "execution_count": 37,
   "metadata": {},
   "outputs": [],
   "source": [
    "# Scripts and function to retrieve results based on the temp saved files (which contain the job_id) \n",
    "# and then save the result in a pickle.\n",
    "# Obviously the range and filename will need to be tailored.\n",
    "\n",
    "def saveResults(bs,js,start,number,savePrefix,forced = False,):\n",
    "    now = datetime.datetime.now()\n",
    "    print(\"Saving at time: \",now.strftime(\"%d %B: %r \"))\n",
    "    for (idx,j) in enumerate(js):\n",
    "        if not j['status'] == 'COMPLETED':\n",
    "            print(\"Run \",idx+start,\" didn't/hasn't completed status: \",j['status'],\" bits \",len(bs[idx*number:(idx+1)*number]))\n",
    "        elif not j['qObjectResult']['success']:\n",
    "            print(\"*********** CHECK ******************\",idx)\n",
    "        else:\n",
    "            bits = bs[idx*number:(idx+1)*number]\n",
    "            if forced or not os.path.isfile('InterleavedRuns'+savePrefix+str(idx+start)+'.pickle'):\n",
    "                with open('InterleavedRuns'+savePrefix+str(idx+start)+'.pickle','wb') as f:\n",
    "                    pickle.dump(savedPair(bits,j),f)\n",
    "                print(\"Saved: \"+str(idx+start))\n",
    "            else:\n",
    "                print(\"File: \",str(idx+start),\" already exists, skipping.\")\n",
    "  \n",
    "    "
   ]
  },
  {
   "cell_type": "code",
   "execution_count": null,
   "metadata": {},
   "outputs": [],
   "source": [
    "### See PICKLE EXTRACTOR."
   ]
  }
 ],
 "metadata": {
  "anaconda-cloud": {},
  "kernelspec": {
   "display_name": "Python 3",
   "language": "python",
   "name": "python3"
  },
  "language_info": {
   "codemirror_mode": {
    "name": "ipython",
    "version": 3
   },
   "file_extension": ".py",
   "mimetype": "text/x-python",
   "name": "python",
   "nbconvert_exporter": "python",
   "pygments_lexer": "ipython3",
   "version": "3.7.5"
  }
 },
 "nbformat": 4,
 "nbformat_minor": 1
}
