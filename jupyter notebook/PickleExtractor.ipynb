{
 "cells": [
  {
   "cell_type": "markdown",
   "metadata": {},
   "source": [
    "# Qiskit\n",
    "\n",
    "Takes pickles saved from qubit experiments, specific target being 14 Qubit 'Melbourne' Device. \n",
    "\n",
    "### NB - Version number written for: 0.7.0\n",
    "### But checking this all still works for qiskit.__version__ 0.11.0\n",
    "\n",
    "As per ususal some of the specifics are going to go out of date pretty quickly but the qasm code etc should be easily adapted. \n",
    "\n",
    "My experience, however, is that sometimes the pickles can't be unpickled with higher versions. It might be possbile to use GitHub to load an older version. However at the end of this workbook all the relevant data is stored as csv so that is all I need.\n",
    "\n",
    "This should run on an appropriate version python3 system where you have \n",
    "\n",
    "`pip3 install -U qiskit`\n",
    "\n",
    "and\n",
    "\n",
    "`pip3 install -U IBMQuantumExperience` (for the script query thing)\n"
   ]
  },
  {
   "cell_type": "markdown",
   "metadata": {},
   "source": [
    "**Code imports**"
   ]
  },
  {
   "cell_type": "code",
   "execution_count": 1,
   "metadata": {
    "ExecuteTime": {
     "end_time": "2018-09-29T00:04:16.313210Z",
     "start_time": "2018-09-29T00:04:14.460647Z"
    }
   },
   "outputs": [],
   "source": [
    "import numpy as np\n",
    "from qiskit import QuantumCircuit, ClassicalRegister, QuantumRegister\n",
    "from qiskit import execute\n",
    "from qiskit import __version__"
   ]
  },
  {
   "cell_type": "markdown",
   "metadata": {},
   "source": [
    "## Case in point re Marshmallow warning."
   ]
  },
  {
   "cell_type": "code",
   "execution_count": 2,
   "metadata": {},
   "outputs": [],
   "source": [
    "from qiskit import IBMQ"
   ]
  },
  {
   "cell_type": "code",
   "execution_count": 3,
   "metadata": {},
   "outputs": [
    {
     "data": {
      "text/plain": [
       "'0.11.0'"
      ]
     },
     "execution_count": 3,
     "metadata": {},
     "output_type": "execute_result"
    }
   ],
   "source": [
    "__version__"
   ]
  },
  {
   "cell_type": "code",
   "execution_count": 4,
   "metadata": {},
   "outputs": [],
   "source": [
    "# random is needed for the initial X gates. In order to minimise SPAM (i.e. B=0.5/0.25 in old parlance)\n",
    "# a random mix of which state we return it to is best. Could seed this if you want.\n",
    "import random\n",
    "# The rest are for saving and logging.\n",
    "import datetime\n",
    "import os\n",
    "import pickle\n",
    "import time"
   ]
  },
  {
   "cell_type": "code",
   "execution_count": 5,
   "metadata": {},
   "outputs": [],
   "source": [
    "# This just makes it easier to pickle the bit pattern used to randomise the 'expected' measurements\n",
    "class savedPair:\n",
    "    def __init__(self, bits,result):\n",
    "        self.bits = bits\n",
    "        self.result = result\n",
    "\n",
    "\n",
    "\n"
   ]
  },
  {
   "cell_type": "code",
   "execution_count": 6,
   "metadata": {},
   "outputs": [],
   "source": [
    "# String version of exclusive or.\n",
    "# Use to take the result type -> normalised result type i.e. with the 'expected' result all 0s.\n",
    "def mashable(s1,s2):\n",
    "    s3 =''\n",
    "    for i in range(0,len(s1)):\n",
    "        if s1[i] == s2[i]:\n",
    "            s3 = s3 + '0'\n",
    "        else:\n",
    "            s3 = s3 + '1'\n",
    "    return s3\n"
   ]
  },
  {
   "cell_type": "markdown",
   "metadata": {},
   "source": [
    "### Step 1 extract the 'single qubit' pickles."
   ]
  },
  {
   "cell_type": "code",
   "execution_count": 7,
   "metadata": {},
   "outputs": [
    {
     "data": {
      "text/plain": [
       "1000"
      ]
     },
     "execution_count": 7,
     "metadata": {},
     "output_type": "execute_result"
    }
   ],
   "source": [
    "# fourteenQubitMachineRTwoQubitActive\n",
    "import glob \n",
    "dirlist = glob.glob('../data/singlePickles/fourteenQubitMachineSingle_q1_Batch[0-9]*.pickle')\n",
    "len(dirlist)"
   ]
  },
  {
   "cell_type": "code",
   "execution_count": 8,
   "metadata": {},
   "outputs": [],
   "source": [
    "### Create our empty dicts of each possible key\n",
    "lengthDicts = [{} for i in range(11)]\n",
    "for ld in lengthDicts:\n",
    "    for i in range(0,2**14):\n",
    "        ld[\"{0:014b}\".format(i)]=0\n",
    "\n"
   ]
  },
  {
   "cell_type": "code",
   "execution_count": 9,
   "metadata": {
    "scrolled": false
   },
   "outputs": [],
   "source": [
    "resultDict = {}\n",
    "scale = 16 ## equals to hexadecimal\n",
    "num_of_bits = 14\n",
    "seqs=11\n",
    "count = 0\n",
    "for i in dirlist:\n",
    "    with open(i,'rb') as f:\n",
    "       # print(\"File: \",i)\n",
    "        srSp = pickle.load(f)\n",
    "        for idx in range(0,seqs):\n",
    "            # note we need to reverse the mask - IBM stores Q0 as right hand bit.\n",
    "            mask = srSp.bits[idx][::-1]\n",
    "            #### So we have saved this two different ways once from the job_exp.result()\n",
    "            #### The other from the aip.get_results('jobid'), they both return different objects\n",
    "            #### We want a dict of bits->counts.\n",
    "            resultDict = {}\n",
    "            if type(srSp.result) == dict:\n",
    "                # The hard way...\n",
    "                hexadec_dict =  srSp.result['qObjectResult']['results'][idx]['data']['counts']\n",
    "                for hk in hexadec_dict.keys():\n",
    "                    binaryKey = bin(int(hk, scale))[2:].zfill(num_of_bits)\n",
    "                    resultDict[binaryKey] = hexadec_dict[hk]\n",
    "            else:\n",
    "                # The easy way\n",
    "                resultDict = srSp.result.get_counts(idx)\n",
    "            if not sum(resultDict.values()) == 1024:\n",
    "                    print(\"Error with counts of \",i)\n",
    "            for actKeys in resultDict.keys():\n",
    "                    countForKey = resultDict[actKeys]\n",
    "                    lengthDicts[idx][mashable(actKeys,mask)] += countForKey      \n",
    "                    "
   ]
  },
  {
   "cell_type": "code",
   "execution_count": 10,
   "metadata": {},
   "outputs": [],
   "source": [
    "orderedKeys = [\"{0:014b}\".format(i) for i in range(0,2**14)]"
   ]
  },
  {
   "cell_type": "code",
   "execution_count": 11,
   "metadata": {
    "scrolled": false
   },
   "outputs": [
    {
     "name": "stdout",
     "output_type": "stream",
     "text": [
      "00000000000000 -> 245907\n",
      "00000000000001 -> 19419\n",
      "00000000000010 -> 40044\n",
      "00000000000011 -> 3266\n",
      "00000000000100 -> 17493\n",
      "00000000000101 -> 1506\n",
      "00000000000110 -> 4251\n",
      "00000000000111 -> 652\n",
      "00000000001000 -> 76947\n",
      "00000000001001 -> 5964\n",
      "================\n",
      "00000000000000 -> 166135\n",
      "00000000000001 -> 14639\n",
      "00000000000010 -> 41640\n",
      "00000000000011 -> 3938\n",
      "00000000000100 -> 18589\n",
      "00000000000101 -> 1857\n",
      "00000000000110 -> 5581\n",
      "00000000000111 -> 744\n",
      "00000000001000 -> 54255\n",
      "00000000001001 -> 4898\n",
      "================\n",
      "00000000000000 -> 105754\n",
      "00000000000001 -> 11295\n",
      "00000000000010 -> 34588\n",
      "00000000000011 -> 3940\n",
      "00000000000100 -> 18449\n",
      "00000000000101 -> 2130\n",
      "00000000000110 -> 6893\n",
      "00000000000111 -> 978\n",
      "00000000001000 -> 36621\n",
      "00000000001001 -> 3862\n",
      "================\n",
      "00000000000000 -> 70648\n",
      "00000000000001 -> 8601\n",
      "00000000000010 -> 29350\n",
      "00000000000011 -> 3819\n",
      "00000000000100 -> 14953\n",
      "00000000000101 -> 1794\n",
      "00000000000110 -> 6809\n",
      "00000000000111 -> 890\n",
      "00000000001000 -> 26001\n",
      "00000000001001 -> 3095\n",
      "================\n",
      "00000000000000 -> 48405\n",
      "00000000000001 -> 6642\n",
      "00000000000010 -> 23358\n",
      "00000000000011 -> 3272\n",
      "00000000000100 -> 13303\n",
      "00000000000101 -> 1878\n",
      "00000000000110 -> 6841\n",
      "00000000000111 -> 1056\n",
      "00000000001000 -> 18525\n",
      "00000000001001 -> 2502\n",
      "================\n",
      "00000000000000 -> 24206\n",
      "00000000000001 -> 3899\n",
      "00000000000010 -> 15497\n",
      "00000000000011 -> 2641\n",
      "00000000000100 -> 8901\n",
      "00000000000101 -> 1521\n",
      "00000000000110 -> 6021\n",
      "00000000000111 -> 1051\n",
      "00000000001000 -> 9987\n",
      "00000000001001 -> 1588\n",
      "================\n",
      "00000000000000 -> 9715\n",
      "00000000000001 -> 2050\n",
      "00000000000010 -> 7606\n",
      "00000000000011 -> 1718\n",
      "00000000000100 -> 5196\n",
      "00000000000101 -> 1194\n",
      "00000000000110 -> 4087\n",
      "00000000000111 -> 906\n",
      "00000000001000 -> 4470\n",
      "00000000001001 -> 1048\n",
      "================\n",
      "00000000000000 -> 4933\n",
      "00000000000001 -> 1346\n",
      "00000000000010 -> 4289\n",
      "00000000000011 -> 1191\n",
      "00000000000100 -> 2991\n",
      "00000000000101 -> 855\n",
      "00000000000110 -> 2572\n",
      "00000000000111 -> 699\n",
      "00000000001000 -> 2532\n",
      "00000000001001 -> 643\n",
      "================\n",
      "00000000000000 -> 2727\n",
      "00000000000001 -> 837\n",
      "00000000000010 -> 2535\n",
      "00000000000011 -> 795\n",
      "00000000000100 -> 2020\n",
      "00000000000101 -> 678\n",
      "00000000000110 -> 1963\n",
      "00000000000111 -> 612\n",
      "00000000001000 -> 1573\n",
      "00000000001001 -> 453\n",
      "================\n",
      "00000000000000 -> 1687\n",
      "00000000000001 -> 617\n",
      "00000000000010 -> 1685\n",
      "00000000000011 -> 623\n",
      "00000000000100 -> 1385\n",
      "00000000000101 -> 474\n",
      "00000000000110 -> 1284\n",
      "00000000000111 -> 456\n",
      "00000000001000 -> 1066\n",
      "00000000001001 -> 378\n",
      "================\n",
      "00000000000000 -> 1132\n",
      "00000000000001 -> 476\n",
      "00000000000010 -> 1174\n",
      "00000000000011 -> 441\n",
      "00000000000100 -> 1024\n",
      "00000000000101 -> 395\n",
      "00000000000110 -> 1005\n",
      "00000000000111 -> 410\n",
      "00000000001000 -> 731\n",
      "00000000001001 -> 325\n",
      "================\n"
     ]
    }
   ],
   "source": [
    "for idx in range(11):\n",
    "    for i in orderedKeys[0:10]:\n",
    "        print(i,\"->\",lengthDicts[idx][i])\n",
    "    print(\"================\")\n"
   ]
  },
  {
   "cell_type": "code",
   "execution_count": 12,
   "metadata": {},
   "outputs": [],
   "source": [
    "orderedKeys = [\"{0:014b}\".format(i) for i in range(0,2**14)]\n",
    "## And save\n",
    "import csv \n",
    "with open('../data/results14Single_1_5_10_15_20_30_45_60_75_90_105.csv', 'w') as csvfile:\n",
    "    writer = csv.writer(csvfile,delimiter=',')\n",
    "    for i in lengthDicts:\n",
    "        row = [i[k] for k in orderedKeys]\n",
    "        writer.writerow(row)\n",
    "    \n",
    "### and analyse (for me, just now, in Julia)"
   ]
  },
  {
   "cell_type": "markdown",
   "metadata": {},
   "source": [
    "### Step 2 extract the double qubit pickles.\n",
    "\n",
    "There are three sets of them, and in each pickle the three sets were done twice.\n",
    "(So although we have only got 973 pickles, it means there are 1946 runs per pattern each with 1024 shots).\n",
    "\n",
    "What happened to the others?\n",
    "\n",
    "Well some of the runs failed. At the time the IBMQ had the occasional hiccup and jobs were never completed.\n",
    "\n",
    "For this particular set of runs we had more than enough data. The first 800 or so were on one calibration cycle the rest on the subsequent one (check timestamps of pickles for more information). The missing data was never chased (as by the time the runs could be re-run the machine would have recalibrated).\n",
    "\n",
    "Note the interleaved in the pickle names only refers to the fact that different 'two qubit' resonator patterns were loaded in an interleaved manner (runtype1, runtype2, runtype3, runtype1 ...) etc as opposed to referring to anything unusual in the runs or twirls themselves."
   ]
  },
  {
   "cell_type": "code",
   "execution_count": 13,
   "metadata": {},
   "outputs": [
    {
     "data": {
      "text/plain": [
       "973"
      ]
     },
     "execution_count": 13,
     "metadata": {},
     "output_type": "execute_result"
    }
   ],
   "source": [
    "# fourteenQubitMachineRTwoQubitActive\n",
    "import glob \n",
    "dirlist = glob.glob('../data/doublePickles/InterleavedRuns_[0-9]*.pickle')\n",
    "\n",
    "\n",
    "len(dirlist)"
   ]
  },
  {
   "cell_type": "code",
   "execution_count": 14,
   "metadata": {},
   "outputs": [
    {
     "data": {
      "text/plain": [
       "1946"
      ]
     },
     "execution_count": 14,
     "metadata": {},
     "output_type": "execute_result"
    }
   ],
   "source": [
    "973*2"
   ]
  },
  {
   "cell_type": "code",
   "execution_count": 15,
   "metadata": {},
   "outputs": [],
   "source": [
    "import pickle\n",
    "allDicts = []\n",
    "for idx in range(3):\n",
    "    ### Create our empty dicts of each possible key\n",
    "    lengthDicts = [{} for i in range(11)]\n",
    "    for ld in lengthDicts:\n",
    "        for i in range(0,2**14):\n",
    "            ld[\"{0:014b}\".format(i)]=0\n",
    "    allDicts += [lengthDicts]\n",
    "\n",
    "\n",
    "scale = 16 ## equals to hexadecimal\n",
    "num_of_bits = 14\n",
    "seqs=11\n",
    "count = 0\n",
    "for i in dirlist:\n",
    "    with open(i,'rb') as f:\n",
    "        #print(\"File: \",i)\n",
    "        srSp = pickle.load(f)\n",
    "        for seq in range(11):\n",
    "            for a in range(0,2):\n",
    "                for b in range(0,3):\n",
    "                    # note we need to reverse the mask - IBM stores Q0 as right hand bit.\n",
    "                    # idx into count and bits\n",
    "                    idx = 3*a+b +6*seq\n",
    "                    mask = srSp.bits[idx][::-1]\n",
    "                    #### So we have saved this two different ways once from the job_exp.result()\n",
    "                    #### The other from the aip.get_results('jobid'), they both return different objects\n",
    "                    #### We want a dict of bits->counts.\n",
    "                    resultDict = {}\n",
    "                    if type(srSp.result) == dict:\n",
    "                        # The hard way...\n",
    "                        hexadec_dict =  srSp.result['qObjectResult']['results'][idx]['data']['counts']\n",
    "                        for hk in hexadec_dict.keys():\n",
    "                            binaryKey = bin(int(hk, scale))[2:].zfill(num_of_bits)\n",
    "                            resultDict[binaryKey] = hexadec_dict[hk]\n",
    "                    else:\n",
    "                        # The easy way\n",
    "                        resultDict = srSp.result.get_counts(idx)\n",
    "                    if not sum(resultDict.values()) == 1024:\n",
    "                            print(\"Error with counts of \",i)\n",
    "                    for actKeys in resultDict.keys():\n",
    "                            countForKey = resultDict[actKeys]\n",
    "                            allDicts[b][seq][mashable(actKeys,mask)] += countForKey      \n",
    "                            "
   ]
  },
  {
   "cell_type": "code",
   "execution_count": 16,
   "metadata": {
    "scrolled": false
   },
   "outputs": [
    {
     "name": "stdout",
     "output_type": "stream",
     "text": [
      "00000000000000 -> 367287  :  369946  :  369415\n",
      "00000000000001 -> 17174  :  16587  :  16583\n",
      "00000000000010 -> 123893  :  125094  :  124956\n",
      "00000000000011 -> 5874  :  5825  :  5905\n",
      "00000000000100 -> 16758  :  17567  :  17069\n",
      "00000000000101 -> 981  :  918  :  841\n",
      "00000000000110 -> 7156  :  7616  :  7426\n",
      "00000000000111 -> 955  :  867  :  822\n",
      "00000000001000 -> 158289  :  159763  :  159006\n",
      "00000000001001 -> 7466  :  7135  :  7151\n",
      "================\n",
      "00000000000000 -> 9826  :  9287  :  10924\n",
      "00000000000001 -> 5462  :  5835  :  3579\n",
      "00000000000010 -> 7834  :  7554  :  8233\n",
      "00000000000011 -> 5534  :  5933  :  2753\n",
      "00000000000100 -> 3924  :  3225  :  7886\n",
      "00000000000101 -> 2440  :  2276  :  2806\n",
      "00000000000110 -> 3086  :  2853  :  6982\n",
      "00000000000111 -> 2307  :  2222  :  2683\n",
      "00000000001000 -> 5921  :  5452  :  6596\n",
      "00000000001001 -> 3340  :  3384  :  2213\n",
      "================\n",
      "00000000000000 -> 2076  :  1780  :  2830\n",
      "00000000000001 -> 1770  :  1617  :  1479\n",
      "00000000000010 -> 1859  :  1711  :  2572\n",
      "00000000000011 -> 1656  :  1646  :  1492\n",
      "00000000000100 -> 1302  :  1076  :  2600\n",
      "00000000000101 -> 1066  :  1049  :  1511\n",
      "00000000000110 -> 1097  :  1065  :  2617\n",
      "00000000000111 -> 1130  :  1081  :  1331\n",
      "00000000001000 -> 1512  :  1332  :  2050\n",
      "00000000001001 -> 1329  :  1225  :  1104\n",
      "================\n",
      "00000000000000 -> 766  :  685  :  1186\n",
      "00000000000001 -> 722  :  644  :  799\n",
      "00000000000010 -> 743  :  714  :  1233\n",
      "00000000000011 -> 745  :  746  :  824\n",
      "00000000000100 -> 657  :  572  :  1154\n",
      "00000000000101 -> 602  :  542  :  796\n",
      "00000000000110 -> 562  :  631  :  1189\n",
      "00000000000111 -> 558  :  620  :  836\n",
      "00000000001000 -> 680  :  600  :  994\n",
      "00000000001001 -> 591  :  595  :  663\n",
      "================\n",
      "00000000000000 -> 481  :  384  :  712\n",
      "00000000000001 -> 474  :  364  :  573\n",
      "00000000000010 -> 508  :  398  :  673\n",
      "00000000000011 -> 497  :  391  :  551\n",
      "00000000000100 -> 438  :  384  :  721\n",
      "00000000000101 -> 428  :  352  :  542\n",
      "00000000000110 -> 464  :  364  :  709\n",
      "00000000000111 -> 444  :  365  :  546\n",
      "00000000001000 -> 455  :  368  :  627\n",
      "00000000001001 -> 413  :  423  :  509\n",
      "================\n",
      "00000000000000 -> 335  :  290  :  402\n",
      "00000000000001 -> 342  :  278  :  369\n",
      "00000000000010 -> 311  :  269  :  454\n",
      "00000000000011 -> 334  :  255  :  378\n",
      "00000000000100 -> 304  :  265  :  445\n",
      "00000000000101 -> 297  :  280  :  378\n",
      "00000000000110 -> 303  :  273  :  432\n",
      "00000000000111 -> 296  :  267  :  401\n",
      "00000000001000 -> 328  :  284  :  392\n",
      "00000000001001 -> 312  :  254  :  374\n",
      "================\n",
      "00000000000000 -> 258  :  231  :  352\n",
      "00000000000001 -> 251  :  196  :  308\n",
      "00000000000010 -> 221  :  228  :  366\n",
      "00000000000011 -> 262  :  205  :  288\n",
      "00000000000100 -> 253  :  178  :  316\n",
      "00000000000101 -> 236  :  193  :  263\n",
      "00000000000110 -> 237  :  206  :  320\n",
      "00000000000111 -> 238  :  208  :  319\n",
      "00000000001000 -> 244  :  211  :  286\n",
      "00000000001001 -> 258  :  209  :  284\n",
      "================\n",
      "00000000000000 -> 211  :  180  :  260\n",
      "00000000000001 -> 196  :  200  :  223\n",
      "00000000000010 -> 183  :  152  :  274\n",
      "00000000000011 -> 185  :  171  :  217\n",
      "00000000000100 -> 200  :  160  :  254\n",
      "00000000000101 -> 218  :  170  :  234\n",
      "00000000000110 -> 207  :  186  :  263\n",
      "00000000000111 -> 183  :  165  :  221\n",
      "00000000001000 -> 196  :  159  :  238\n",
      "00000000001001 -> 188  :  184  :  213\n",
      "================\n",
      "00000000000000 -> 187  :  183  :  201\n",
      "00000000000001 -> 153  :  181  :  199\n",
      "00000000000010 -> 176  :  163  :  209\n",
      "00000000000011 -> 149  :  157  :  206\n",
      "00000000000100 -> 175  :  183  :  224\n",
      "00000000000101 -> 154  :  152  :  166\n",
      "00000000000110 -> 165  :  165  :  235\n",
      "00000000000111 -> 187  :  159  :  229\n",
      "00000000001000 -> 179  :  161  :  210\n",
      "00000000001001 -> 174  :  161  :  207\n",
      "================\n",
      "00000000000000 -> 147  :  153  :  210\n",
      "00000000000001 -> 169  :  169  :  193\n",
      "00000000000010 -> 152  :  152  :  199\n",
      "00000000000011 -> 154  :  158  :  188\n",
      "00000000000100 -> 155  :  146  :  167\n",
      "00000000000101 -> 195  :  143  :  147\n",
      "00000000000110 -> 166  :  133  :  191\n",
      "00000000000111 -> 157  :  135  :  174\n",
      "00000000001000 -> 175  :  166  :  210\n",
      "00000000001001 -> 151  :  136  :  182\n",
      "================\n",
      "00000000000000 -> 150  :  132  :  175\n",
      "00000000000001 -> 175  :  150  :  192\n",
      "00000000000010 -> 171  :  145  :  142\n",
      "00000000000011 -> 148  :  149  :  148\n",
      "00000000000100 -> 144  :  130  :  178\n",
      "00000000000101 -> 158  :  122  :  132\n",
      "00000000000110 -> 136  :  149  :  178\n",
      "00000000000111 -> 163  :  142  :  167\n",
      "00000000001000 -> 159  :  140  :  167\n",
      "00000000001001 -> 143  :  143  :  180\n",
      "================\n"
     ]
    }
   ],
   "source": [
    "for idx in range(11):\n",
    "    for i in orderedKeys[0:10]:\n",
    "        print(i,\"->\",allDicts[0][idx][i],\" : \",allDicts[1][idx][i],\" : \",allDicts[2][idx][i])\n",
    "    print(\"================\")\n",
    "\n"
   ]
  },
  {
   "cell_type": "code",
   "execution_count": 17,
   "metadata": {},
   "outputs": [],
   "source": [
    "orderedKeys = [\"{0:014b}\".format(i) for i in range(0,2**14)]\n",
    "## And save\n",
    "import csv \n",
    "for ty in range(3):\n",
    "  with open('../data/results14InterleavedAC_'+str(ty)+'.csv', 'w') as csvfile:\n",
    "    writer = csv.writer(csvfile,delimiter=',')\n",
    "    for i in allDicts[ty]:\n",
    "        row = [i[k] for k in orderedKeys]\n",
    "        writer.writerow(row)\n",
    "    \n",
    "### and analyse (for me, just now, in Julia)"
   ]
  },
  {
   "cell_type": "markdown",
   "metadata": {},
   "source": [
    "## Some additional Analysis to extract time stamping from the pickles."
   ]
  },
  {
   "cell_type": "code",
   "execution_count": 18,
   "metadata": {},
   "outputs": [
    {
     "data": {
      "text/plain": [
       "1000"
      ]
     },
     "execution_count": 18,
     "metadata": {},
     "output_type": "execute_result"
    }
   ],
   "source": [
    "# fourteenQubitMachineRTwoQubitActive\n",
    "import glob \n",
    "dirlist = glob.glob('../data/singlePickles/fourteenQubitMachineSingle_q1_Batch[0-9]*.pickle')\n",
    "len(dirlist)"
   ]
  },
  {
   "cell_type": "code",
   "execution_count": 19,
   "metadata": {
    "scrolled": false
   },
   "outputs": [],
   "source": [
    "def getDate(i):\n",
    "    with open(i,'rb') as f:\n",
    "       # print(\"File: \",i)\n",
    "        srSp = pickle.load(f)\n",
    "        return srSp.result.date\n",
    "  "
   ]
  },
  {
   "cell_type": "code",
   "execution_count": 20,
   "metadata": {},
   "outputs": [],
   "source": [
    "run_dates = [getDate(i) for i in dirlist]\n"
   ]
  },
  {
   "cell_type": "code",
   "execution_count": 32,
   "metadata": {},
   "outputs": [
    {
     "ename": "AttributeError",
     "evalue": "module 'datetime' has no attribute 'AutoDateLocator'",
     "output_type": "error",
     "traceback": [
      "\u001b[0;31m---------------------------------------------------------------------------\u001b[0m",
      "\u001b[0;31mAttributeError\u001b[0m                            Traceback (most recent call last)",
      "\u001b[0;32m<ipython-input-32-41a93439fb1a>\u001b[0m in \u001b[0;36m<module>\u001b[0;34m()\u001b[0m\n\u001b[1;32m     12\u001b[0m     \u001b[0;31m# rotate_labels...\u001b[0m\u001b[0;34m\u001b[0m\u001b[0;34m\u001b[0m\u001b[0;34m\u001b[0m\u001b[0m\n\u001b[1;32m     13\u001b[0m \u001b[0max\u001b[0m\u001b[0;34m.\u001b[0m\u001b[0mset_yticklabels\u001b[0m\u001b[0;34m(\u001b[0m\u001b[0;34m[\u001b[0m\u001b[0;34m]\u001b[0m\u001b[0;34m)\u001b[0m\u001b[0;34m\u001b[0m\u001b[0;34m\u001b[0m\u001b[0m\n\u001b[0;32m---> 14\u001b[0;31m \u001b[0mlocator\u001b[0m \u001b[0;34m=\u001b[0m \u001b[0mdates\u001b[0m\u001b[0;34m.\u001b[0m\u001b[0mAutoDateLocator\u001b[0m\u001b[0;34m(\u001b[0m\u001b[0mminticks\u001b[0m\u001b[0;34m=\u001b[0m\u001b[0;36m6\u001b[0m\u001b[0;34m,\u001b[0m\u001b[0mmaxticks\u001b[0m\u001b[0;34m=\u001b[0m\u001b[0;36m20\u001b[0m\u001b[0;34m)\u001b[0m\u001b[0;34m\u001b[0m\u001b[0;34m\u001b[0m\u001b[0m\n\u001b[0m\u001b[1;32m     15\u001b[0m \u001b[0mformatter\u001b[0m \u001b[0;34m=\u001b[0m \u001b[0mdates\u001b[0m\u001b[0;34m.\u001b[0m\u001b[0mAutoDateFormatter\u001b[0m\u001b[0;34m(\u001b[0m\u001b[0mlocator\u001b[0m\u001b[0;34m)\u001b[0m\u001b[0;34m\u001b[0m\u001b[0;34m\u001b[0m\u001b[0m\n\u001b[1;32m     16\u001b[0m \u001b[0;34m\u001b[0m\u001b[0m\n",
      "\u001b[0;31mAttributeError\u001b[0m: module 'datetime' has no attribute 'AutoDateLocator'"
     ]
    },
    {
     "data": {
      "image/png": "[encoded data removed]",
      "text/plain": [
       "<Figure size 2880x720 with 1 Axes>"
      ]
     },
     "metadata": {
      "needs_background": "light"
     },
     "output_type": "display_data"
    }
   ],
   "source": [
    "import matplotlib.pyplot as plt\n",
    "import matplotlib.dates\n",
    "import datetime\n",
    "sr = np.sort(run_dates)\n",
    "N = len(run_dates)\n",
    "np.random.seed(19680801)\n",
    "y = np.cumsum(np.random.randn(N))\n",
    "plt.figure(figsize=(40,10))\n",
    "#fig, axs = plt.plot(figsize=(16, 6))\n",
    "plt.bar(sr, [10]*1000,width=0.001)\n",
    "ax=plt.gca()\n",
    "    # rotate_labels...\n",
    "ax.set_yticklabels([])\n",
    "locator = dates.AutoDateLocator(minticks=6,maxticks=20)\n",
    "formatter = dates.AutoDateFormatter(locator)\n",
    "\n",
    "ax.xaxis.set_major_locator(locator)\n",
    "ax.xaxis.set_major_formatter(formatter)\n",
    "\n",
    "\n",
    "\n",
    "for label in ax.get_xticklabels():\n",
    "        label.set_rotation(40)\n",
    "        label.set_horizontalalignment('right')\n",
    "        label.set_fontsize('42')\n",
    "plt.tight_layout()\n",
    "plt.savefig(\"oneQplot.pdf\")\n",
    "\n",
    "\n"
   ]
  },
  {
   "cell_type": "code",
   "execution_count": 33,
   "metadata": {},
   "outputs": [
    {
     "data": {
      "text/plain": [
       "973"
      ]
     },
     "execution_count": 33,
     "metadata": {},
     "output_type": "execute_result"
    }
   ],
   "source": [
    "# fourteenQubitMachineRTwoQubitActive\n",
    "import glob \n",
    "dirlist = glob.glob('../data/doublePickles/InterleavedRuns_[0-9]*.pickle')\n",
    "\n",
    "\n",
    "len(dirlist)"
   ]
  },
  {
   "cell_type": "code",
   "execution_count": 34,
   "metadata": {},
   "outputs": [],
   "source": [
    "runT_dates = [getDate(i) for i in dirlist]\n"
   ]
  },
  {
   "cell_type": "code",
   "execution_count": 35,
   "metadata": {},
   "outputs": [
    {
     "ename": "AttributeError",
     "evalue": "module 'datetime' has no attribute 'AutoDateLocator'",
     "output_type": "error",
     "traceback": [
      "\u001b[0;31m---------------------------------------------------------------------------\u001b[0m",
      "\u001b[0;31mAttributeError\u001b[0m                            Traceback (most recent call last)",
      "\u001b[0;32m<ipython-input-35-8857a72b2dba>\u001b[0m in \u001b[0;36m<module>\u001b[0;34m()\u001b[0m\n\u001b[1;32m      3\u001b[0m \u001b[0mplt\u001b[0m\u001b[0;34m.\u001b[0m\u001b[0mfigure\u001b[0m\u001b[0;34m(\u001b[0m\u001b[0mfigsize\u001b[0m\u001b[0;34m=\u001b[0m\u001b[0;34m(\u001b[0m\u001b[0;36m40\u001b[0m\u001b[0;34m,\u001b[0m\u001b[0;36m10\u001b[0m\u001b[0;34m)\u001b[0m\u001b[0;34m)\u001b[0m\u001b[0;34m\u001b[0m\u001b[0;34m\u001b[0m\u001b[0m\n\u001b[1;32m      4\u001b[0m \u001b[0mplt\u001b[0m\u001b[0;34m.\u001b[0m\u001b[0mbar\u001b[0m\u001b[0;34m(\u001b[0m\u001b[0mtr\u001b[0m\u001b[0;34m,\u001b[0m \u001b[0;34m[\u001b[0m\u001b[0;36m10\u001b[0m\u001b[0;34m]\u001b[0m\u001b[0;34m*\u001b[0m\u001b[0;36m973\u001b[0m\u001b[0;34m,\u001b[0m\u001b[0mwidth\u001b[0m\u001b[0;34m=\u001b[0m\u001b[0;36m0.001\u001b[0m\u001b[0;34m)\u001b[0m\u001b[0;34m\u001b[0m\u001b[0;34m\u001b[0m\u001b[0m\n\u001b[0;32m----> 5\u001b[0;31m \u001b[0mlocator\u001b[0m \u001b[0;34m=\u001b[0m \u001b[0mdates\u001b[0m\u001b[0;34m.\u001b[0m\u001b[0mAutoDateLocator\u001b[0m\u001b[0;34m(\u001b[0m\u001b[0mminticks\u001b[0m\u001b[0;34m=\u001b[0m\u001b[0;36m6\u001b[0m\u001b[0;34m,\u001b[0m\u001b[0mmaxticks\u001b[0m\u001b[0;34m=\u001b[0m\u001b[0;36m20\u001b[0m\u001b[0;34m)\u001b[0m\u001b[0;34m\u001b[0m\u001b[0;34m\u001b[0m\u001b[0m\n\u001b[0m\u001b[1;32m      6\u001b[0m \u001b[0mformatter\u001b[0m \u001b[0;34m=\u001b[0m \u001b[0mdates\u001b[0m\u001b[0;34m.\u001b[0m\u001b[0mAutoDateFormatter\u001b[0m\u001b[0;34m(\u001b[0m\u001b[0mlocator\u001b[0m\u001b[0;34m)\u001b[0m\u001b[0;34m\u001b[0m\u001b[0;34m\u001b[0m\u001b[0m\n\u001b[1;32m      7\u001b[0m \u001b[0;34m\u001b[0m\u001b[0m\n",
      "\u001b[0;31mAttributeError\u001b[0m: module 'datetime' has no attribute 'AutoDateLocator'"
     ]
    },
    {
     "data": {
      "image/png": "[encoded data removed]",
      "text/plain": [
       "<Figure size 2880x720 with 1 Axes>"
      ]
     },
     "metadata": {
      "needs_background": "light"
     },
     "output_type": "display_data"
    }
   ],
   "source": [
    "tr = np.sort(runT_dates)\n",
    "N = len(run_dates)\n",
    "plt.figure(figsize=(40,10))\n",
    "plt.bar(tr, [10]*973,width=0.001)\n",
    "locator = dates.AutoDateLocator(minticks=6,maxticks=20)\n",
    "formatter = dates.AutoDateFormatter(locator)\n",
    "\n",
    "ax=plt.gca()\n",
    "    # rotate_labels...\n",
    "\n",
    "ax.set_yticklabels([])\n",
    "ax.xaxis.set_major_locator(locator)\n",
    "ax.xaxis.set_major_formatter(formatter)\n",
    "for label in ax.get_xticklabels():\n",
    "        label.set_rotation(40)\n",
    "        label.set_horizontalalignment('right')\n",
    "        label.set_fontsize('42')\n",
    "plt.tight_layout()\n",
    "plt.savefig(\"twoQplot.pdf\")\n",
    "\n",
    "\n"
   ]
  },
  {
   "cell_type": "code",
   "execution_count": 36,
   "metadata": {},
   "outputs": [],
   "source": [
    "class timePickle:\n",
    "    def __init__(self,time,result):\n",
    "        self.time = time\n",
    "        self.result = result\n",
    "\n"
   ]
  },
  {
   "cell_type": "code",
   "execution_count": 37,
   "metadata": {},
   "outputs": [],
   "source": [
    "def backend(ti):\n",
    "    with open(ti,'rb') as f:\n",
    "        t=pickle.load(f)\n",
    "        if t.time.month ==3 and (t.time.day > 14 and t.time.day <20):\n",
    "            print(t.result.last_update_date,ti)"
   ]
  },
  {
   "cell_type": "code",
   "execution_count": 38,
   "metadata": {},
   "outputs": [
    {
     "data": {
      "text/plain": [
       "140"
      ]
     },
     "execution_count": 38,
     "metadata": {},
     "output_type": "execute_result"
    }
   ],
   "source": [
    "import glob \n",
    "dirlist2 = glob.glob('../data/backendPickles/Backend_[0-9]*.pickle')\n",
    "len(dirlist2)"
   ]
  },
  {
   "cell_type": "code",
   "execution_count": 39,
   "metadata": {},
   "outputs": [
    {
     "name": "stdout",
     "output_type": "stream",
     "text": [
      "2019-03-17 07:01:33+00:00 ../data/backendPickles/Backend_120.pickle\n",
      "2019-03-12 08:30:46+00:00 ../data/backendPickles/Backend_104.pickle\n",
      "2019-03-12 08:30:46+00:00 ../data/backendPickles/Backend_108.pickle\n",
      "2019-03-14 04:53:05+00:00 ../data/backendPickles/Backend_116.pickle\n",
      "2019-03-17 07:01:33+00:00 ../data/backendPickles/Backend_122.pickle\n",
      "2019-03-12 08:30:46+00:00 ../data/backendPickles/Backend_114.pickle\n",
      "2019-03-12 08:30:46+00:00 ../data/backendPickles/Backend_106.pickle\n",
      "2019-03-14 04:53:05+00:00 ../data/backendPickles/Backend_118.pickle\n",
      "2019-03-12 08:30:46+00:00 ../data/backendPickles/Backend_102.pickle\n",
      "2019-03-12 08:30:46+00:00 ../data/backendPickles/Backend_110.pickle\n",
      "2019-03-12 08:30:46+00:00 ../data/backendPickles/Backend_112.pickle\n",
      "2019-03-17 07:01:33+00:00 ../data/backendPickles/Backend_124.pickle\n",
      "2019-03-12 08:30:46+00:00 ../data/backendPickles/Backend_105.pickle\n",
      "2019-03-14 04:53:05+00:00 ../data/backendPickles/Backend_117.pickle\n",
      "2019-03-12 08:30:46+00:00 ../data/backendPickles/Backend_109.pickle\n",
      "2019-03-17 07:01:33+00:00 ../data/backendPickles/Backend_121.pickle\n",
      "2019-03-14 04:53:05+00:00 ../data/backendPickles/Backend_115.pickle\n",
      "2019-03-14 04:53:05+00:00 ../data/backendPickles/Backend_119.pickle\n",
      "2019-03-12 08:30:46+00:00 ../data/backendPickles/Backend_107.pickle\n",
      "2019-03-17 07:01:33+00:00 ../data/backendPickles/Backend_123.pickle\n",
      "2019-03-12 08:30:46+00:00 ../data/backendPickles/Backend_103.pickle\n",
      "2019-03-12 08:30:46+00:00 ../data/backendPickles/Backend_111.pickle\n",
      "2019-03-18 06:48:41+00:00 ../data/backendPickles/Backend_125.pickle\n",
      "2019-03-12 08:30:46+00:00 ../data/backendPickles/Backend_113.pickle\n"
     ]
    }
   ],
   "source": [
    "for d in dirlist2:\n",
    "    try:\n",
    "        backend(d)\n",
    "    except:\n",
    "        print(d)\n",
    "   "
   ]
  },
  {
   "cell_type": "code",
   "execution_count": 40,
   "metadata": {},
   "outputs": [],
   "source": [
    "# Arbitarily pick 2 in the 14th and 17th - ie relevant time, I think they should all be the same if same timestamp"
   ]
  },
  {
   "cell_type": "code",
   "execution_count": 41,
   "metadata": {},
   "outputs": [],
   "source": [
    "with open('../data/backendPickles/Backend_122.pickle','rb') as f:\n",
    "          tt = pickle.load(f)\n",
    "x1=[tt.result.qubit_property(i)['T1'][0] for i in range(14)]\n",
    "x1b=[tt.result.qubit_property(i)['T2'][0] for i in range(14)]"
   ]
  },
  {
   "cell_type": "code",
   "execution_count": 42,
   "metadata": {},
   "outputs": [],
   "source": [
    "with open('../data/backendPickles/Backend_116.pickle','rb') as f:\n",
    "          tt = pickle.load(f)\n",
    "x2=[tt.result.qubit_property(i)['T1'][0] for i in range(14)]\n",
    "x2b=[tt.result.qubit_property(i)['T2'][0] for i in range(14)]"
   ]
  },
  {
   "cell_type": "code",
   "execution_count": 43,
   "metadata": {},
   "outputs": [
    {
     "name": "stdout",
     "output_type": "stream",
     "text": [
      "     2019-03-14\t\t    2019-03-17\n",
      "0 & 4.218e-05& 1.912e-05& 7.160e-05  & 2.104e-05 \\\\\n",
      "1 & 3.873e-05& 3.971e-05& 6.143e-05  & 1.198e-04 \\\\\n",
      "2 & 6.679e-05& 1.107e-04& 5.560e-05  & 9.419e-05 \\\\\n",
      "3 & 6.453e-05& 4.213e-05& 7.830e-05  & 6.618e-05 \\\\\n",
      "4 & 5.126e-05& 3.140e-05& 8.281e-06  & 1.070e-05 \\\\\n",
      "5 & 2.305e-05& 4.288e-05& 2.521e-05  & 4.281e-05 \\\\\n",
      "6 & 9.449e-05& 5.949e-05& 9.449e-05  & 2.870e-05 \\\\\n",
      "7 & 4.737e-05& 6.835e-05& 4.737e-05  & 3.122e-05 \\\\\n",
      "8 & 5.352e-05& 6.277e-05& 5.689e-05  & 9.027e-05 \\\\\n",
      "9 & 4.725e-05& 6.731e-05& 4.287e-05  & 7.272e-05 \\\\\n",
      "10 & 6.005e-05& 6.944e-05& 5.896e-05  & 7.046e-05 \\\\\n",
      "11 & 5.787e-05& 7.954e-05& 6.796e-05  & 1.235e-04 \\\\\n",
      "12 & 6.780e-05& 9.217e-05& 8.905e-05  & 1.547e-04 \\\\\n",
      "13 & 2.364e-05& 4.347e-05& 1.972e-05  & 2.705e-05 \\\\\n"
     ]
    }
   ],
   "source": [
    "### put it in a format we can easily drop into a tabular environment\n",
    "print(\"     2019-03-14\\t\\t    2019-03-17\")\n",
    "for i in range(14):\n",
    "    print( \"{} & {:.3e}& {:.3e}& {:.3e}  & {:.3e} \\\\\\\\\".format(i,x2[i],x2b[i],x1[i],x1b[i]) )"
   ]
  },
  {
   "cell_type": "code",
   "execution_count": null,
   "metadata": {},
   "outputs": [],
   "source": []
  }
 ],
 "metadata": {
  "@webio": {
   "lastCommId": null,
   "lastKernelId": null
  },
  "anaconda-cloud": {},
  "kernelspec": {
   "display_name": "Python 3",
   "language": "python",
   "name": "python3"
  },
  "language_info": {
   "codemirror_mode": {
    "name": "ipython",
    "version": 3
   },
   "file_extension": ".py",
   "mimetype": "text/x-python",
   "name": "python",
   "nbconvert_exporter": "python",
   "pygments_lexer": "ipython3",
   "version": "3.7.5"
  }
 },
 "nbformat": 4,
 "nbformat_minor": 1
}
